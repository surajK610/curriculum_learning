{
 "cells": [
  {
   "cell_type": "code",
   "execution_count": 1,
   "id": "2cf1d0e9-e2e6-413c-a063-60571c0ee75a",
   "metadata": {},
   "outputs": [],
   "source": [
    "from transformers import AutoModel"
   ]
  },
  {
   "cell_type": "code",
   "execution_count": 2,
   "id": "a19c35b4-6674-4c86-b458-f69f9fedef5a",
   "metadata": {},
   "outputs": [],
   "source": [
    "pythia = AutoModel.from_pretrained('EleutherAI/pythia-160m')\n",
    "bert = AutoModel.from_pretrained('google/multiberts-seed_0-step_0k')"
   ]
  },
  {
   "cell_type": "code",
   "execution_count": 3,
   "id": "e0c75654-a00d-42d5-af7d-55805cb3721c",
   "metadata": {},
   "outputs": [
    {
     "name": "stderr",
     "output_type": "stream",
     "text": [
      "/users/sanand14/.local/lib/python3.9/site-packages/torchvision/io/image.py:13: UserWarning: Failed to load image Python extension: /oscar/home/sanand14/.local/lib/python3.9/site-packages/torchvision/image.so: undefined symbol: _ZN3c104cuda20CUDACachingAllocator12recordStreamERKNS_7DataPtrENS0_10CUDAStreamE\n",
      "  warn(f\"Failed to load image Python extension: {e}\")\n"
     ]
    }
   ],
   "source": [
    "from collections import defaultdict\n",
    "import logging\n",
    "from typing import cast, Dict, List, Tuple, Union\n",
    "from typing_extensions import get_args, Literal\n",
    "import sys\n",
    "import os\n",
    "import numpy as np\n",
    "import random \n",
    "\n",
    "import torch\n",
    "import torch.nn as nn\n",
    "import torch.nn.functional as F\n",
    "\n",
    "import yaml\n",
    "import argparse\n",
    "import pandas as pd\n",
    "from tqdm.notebook import tqdm\n",
    "from functools import partial\n",
    "\n",
    "from pytorch_lightning import Trainer\n",
    "from torch.utils.data import DataLoader, TensorDataset\n",
    "import pytorch_lightning as pl\n",
    "from pytorch_lightning.callbacks import ModelCheckpoint\n",
    "\n",
    "\n",
    "from transformer_lens import HookedTransformer\n",
    "from transformer_lens.utils import is_square\n",
    "from transformer_lens.head_detector import (compute_head_attention_similarity_score, \n",
    "                      get_previous_token_head_detection_pattern, \n",
    "                      get_duplicate_token_head_detection_pattern,\n",
    "                      get_induction_head_detection_pattern)\n",
    "\n",
    "\n",
    "\n",
    "sys.path.append('/users/sanand14/data/sanand14/learning_dynamics/src/experiments/utils')\n",
    "sys.path.append('/users/sanand14/data/sanand14/learning_dynamics/src/experiments')\n",
    "\n",
    "from aheads import create_repeats_dataset\n"
   ]
  },
  {
   "cell_type": "markdown",
   "id": "1bd9d88d-c619-4277-94d8-e306f1a05080",
   "metadata": {},
   "source": [
    "## TOY MODEL"
   ]
  },
  {
   "cell_type": "code",
   "execution_count": 62,
   "id": "7d2a3ba7-174f-4ae6-a706-161b4406297e",
   "metadata": {},
   "outputs": [],
   "source": [
    "class ToyModel(nn.Module):\n",
    "    def __init__(self, num_features: int, num_interm : int):\n",
    "        super().__init__()\n",
    "        self.fc1 = nn.Linear(num_features, num_interm)\n",
    "        # Second fully connected layer\n",
    "        self.relu1 = nn.ReLU()\n",
    "        self.fc2 = nn.Linear(num_interm, num_interm)\n",
    "        self.relu2 = nn.ReLU()\n",
    "        self.head = nn.Linear(num_interm, 1, bias=False)\n",
    "\n",
    "    def forward(self, x):\n",
    "        if isinstance(x, list):\n",
    "            x, _ = x\n",
    "        emb = self.relu1(self.fc1(x))\n",
    "        out = self.relu2(self.fc2(emb))# + emb\n",
    "        return self.head(out)"
   ]
  },
  {
   "cell_type": "markdown",
   "id": "56579a94-10cd-4d1f-b93b-9f90b85bb9b3",
   "metadata": {},
   "source": [
    "* Train on disambiguated data to detect mean m1\n",
    "* Train on ambiguated data to detect whole task\n",
    "* Check whether inetermediate layer data is split by mean m1"
   ]
  },
  {
   "cell_type": "markdown",
   "id": "53127c89-eb47-40f0-aef8-e7058934060c",
   "metadata": {},
   "source": [
    "#### Make Deterministic Plz"
   ]
  },
  {
   "cell_type": "code",
   "execution_count": 63,
   "id": "25fa7cf6-026c-438b-9459-c598e3452ff0",
   "metadata": {},
   "outputs": [],
   "source": [
    "torch.manual_seed(42)\n",
    "random.seed(42)\n",
    "np.random.seed(42)\n",
    "\n",
    "torch.backends.cudnn.deterministic = True\n",
    "torch.backends.cudnn.benchmark = False\n",
    "\n",
    "torch.use_deterministic_algorithms(True)"
   ]
  },
  {
   "cell_type": "markdown",
   "id": "27eb1e06-95b3-4394-9863-f5e73b9acfe6",
   "metadata": {},
   "source": [
    "### Gen Data Func"
   ]
  },
  {
   "cell_type": "code",
   "execution_count": 64,
   "id": "4dafcdc3-a1d9-453f-a4fa-6602fd5fd598",
   "metadata": {},
   "outputs": [],
   "source": [
    "## generation hyperparameters\n",
    "\n",
    "size = 10000\n",
    "m1, m2, m3, m4 = 0, 0, 2, 3\n",
    "s1, s2, s3, s4 = 1, 1, 1, 1 ## dec to 0.2\n",
    "N, N_p, N_pp = 0, 2, 3\n",
    "vec_size = 16 ## was 4"
   ]
  },
  {
   "cell_type": "code",
   "execution_count": 65,
   "id": "595b5ff2-4935-40f5-93b5-e552051a28d3",
   "metadata": {},
   "outputs": [],
   "source": [
    "def generate_gaussian_inputs(m1, s1, m2, s2, m3, s3, m4, s4, vec_size, N, N_p, N_pp, init_task=True, disamb=0.5):\n",
    "    f1 = torch.normal(mean=torch.tensor(m1).repeat((1, vec_size)).float(), std=s1)\n",
    "    f2 = torch.normal(mean=torch.tensor(m2).repeat((1, vec_size)).float(), std=s2)\n",
    "    f3 = torch.normal(mean=torch.tensor(m3).repeat((1, vec_size)).float(), std=s3)\n",
    "    f4 = torch.normal(mean=torch.tensor(m4).repeat((1, vec_size)).float(), std=s4)\n",
    "    f1_gt_N = (torch.mean(f1) > N)\n",
    "    f2_gt_N = (torch.mean(f2) > N)\n",
    "    if random.random() < disamb: ## f1 > N != f2 > N (i.e. ambiguous)\n",
    "        while f1_gt_N == f2_gt_N:\n",
    "            f1 = torch.normal(mean=torch.tensor(m1).repeat((1, vec_size)).float(), std=s1)\n",
    "            f2 = torch.normal(mean=torch.tensor(m2).repeat((1, vec_size)).float(), std=s2)\n",
    "            f1_gt_N = (torch.mean(f1) > N)\n",
    "            f2_gt_N = (torch.mean(f2) > N)\n",
    "    else: ## f1 > N == f2 > N (i.e. ambiguous)\n",
    "        while f1_gt_N != f2_gt_N:\n",
    "            f1 = torch.normal(mean=torch.tensor(m1).repeat((1, vec_size)).float(), std=s1)\n",
    "            f2 = torch.normal(mean=torch.tensor(m2).repeat((1, vec_size)).float(), std=s2)\n",
    "            f1_gt_N = (torch.mean(f1) > N)\n",
    "            f2_gt_N = (torch.mean(f2) > N)\n",
    "            \n",
    "    full = torch.concat([f1, f2, f3, f4], dim=1) \n",
    "    if init_task:\n",
    "        label = f1_gt_N\n",
    "        alt_label = f2_gt_N\n",
    "    else:\n",
    "        label = (torch.mean(f3) > N_p) if f1_gt_N else (torch.mean(f4) > N_pp)\n",
    "        alt_label = (torch.mean(f3) > N_p) if f2_gt_N else (torch.mean(f4) > N_pp) \n",
    "    return full, label, alt_label"
   ]
  },
  {
   "cell_type": "code",
   "execution_count": 66,
   "id": "a0d5f5d9-5ca3-4935-991d-3af02c013c68",
   "metadata": {},
   "outputs": [],
   "source": [
    "def create_dataset(init_task, disamb):\n",
    "    inputs = []\n",
    "    labels = []\n",
    "    alt_labels = []\n",
    "    \n",
    "    for i in (range(size)):\n",
    "        input, label, alt_label = generate_gaussian_inputs(m1, s1, m2, s2, m3, s3, m4, s4, vec_size, N, N_p, N_pp, init_task=init_task, disamb=disamb)\n",
    "        inputs.append(input)\n",
    "        labels.append(label)\n",
    "        alt_labels.append(alt_label)\n",
    "        \n",
    "    inputs = torch.vstack(inputs)\n",
    "    labels = torch.vstack(labels).float()\n",
    "    alt_labels = torch.vstack(alt_labels).float()\n",
    "    \n",
    "    train_size = int(0.8 * len(inputs))\n",
    "    \n",
    "    inputs_t, labels_t, alt_labels_t = inputs[:train_size], labels[:train_size], alt_labels[:train_size]\n",
    "    inputs_v, labels_v, alt_labels_v = inputs[train_size:], labels[train_size:], alt_labels[train_size:]\n",
    "\n",
    "    train_dataset = TensorDataset(inputs_t.detach(), labels_t.view(-1, 1))\n",
    "    val_dataset = TensorDataset(inputs_v.detach(), labels_v.view(-1, 1))\n",
    "\n",
    "    train_dataset_alt = TensorDataset(inputs_t.detach(), alt_labels_t.view(-1, 1))\n",
    "    val_dataset_alt = TensorDataset(inputs_v.detach(), alt_labels_v.view(-1, 1))\n",
    "\n",
    "    return train_dataset, val_dataset, train_dataset_alt, val_dataset_alt"
   ]
  },
  {
   "cell_type": "markdown",
   "id": "097ab96f-f20d-40e0-98bb-da3380e96f3b",
   "metadata": {},
   "source": [
    "### Model Params/Functions"
   ]
  },
  {
   "cell_type": "code",
   "execution_count": 67,
   "id": "812b82c6-b881-4feb-b629-351a306870fd",
   "metadata": {},
   "outputs": [],
   "source": [
    "## model params/hyperparams\n",
    "\n",
    "epochs = 2\n",
    "device = \"cuda\" if torch.cuda.is_available() else \"cpu\"\n",
    "interm_size = 256 ## was 128"
   ]
  },
  {
   "cell_type": "code",
   "execution_count": 68,
   "id": "cf2ed89f-46b4-469f-9635-f0fdc6557656",
   "metadata": {},
   "outputs": [],
   "source": [
    "def step(model, batch):\n",
    "    x, y = batch\n",
    "    logits = model.forward(x)\n",
    "    loss = F.binary_cross_entropy(torch.sigmoid(logits), y)\n",
    "    acc = ((logits.squeeze() > 0.5).float() == y.squeeze()).float().mean()\n",
    "    return loss, {\"loss\": loss.item(), \"acc\": acc.item()}\n",
    "\n",
    "def train_loop(model, train_dataloader, test_dataloader, optimizer, epochs):\n",
    "    pbar = tqdm(range(epochs))\n",
    "    for epoch in pbar:\n",
    "        pbar.set_description(f\"Training Epoch {epoch}\")\n",
    "        for batch in train_dataloader:\n",
    "            model.train()\n",
    "            optimizer.zero_grad()\n",
    "            loss, stats = step(model, batch)\n",
    "            loss.backward()\n",
    "            optimizer.step()\n",
    "            pbar.set_postfix(**stats)\n",
    "\n",
    "        model.eval()\n",
    "        with torch.no_grad():\n",
    "            pbar.set_description(\"Validation\")\n",
    "            for val_batch in test_dataloader:\n",
    "                loss, stats = step(model, val_batch)\n",
    "                pbar.set_postfix(**stats)\n",
    "                \n",
    "def val_loop(model, test_dataloader):\n",
    "    model.eval()\n",
    "    acc, losses = [], []\n",
    "    with torch.no_grad():\n",
    "        for val_batch in tqdm(test_dataloader):\n",
    "            loss, stats = step(model, val_batch)\n",
    "            acc.append(stats[\"acc\"])\n",
    "            losses.append(stats[\"loss\"])\n",
    "    return np.mean(acc), np.mean(losses)"
   ]
  },
  {
   "cell_type": "code",
   "execution_count": 69,
   "id": "0b93d919-a982-4109-a285-e7a7ab8e0379",
   "metadata": {},
   "outputs": [],
   "source": [
    "toy_model = ToyModel(4*vec_size, interm_size)\n",
    "optimizer = torch.optim.Adam(toy_model.parameters(), lr=0.001)"
   ]
  },
  {
   "cell_type": "markdown",
   "id": "e23496a6-8f71-41cc-976b-b7ecade0abf9",
   "metadata": {},
   "source": [
    "### Task 1: Learn mean(f1) > N on disambiguated data \n",
    "\n",
    "disambiguated = where mean(f2) > N is the same label with p=0.5"
   ]
  },
  {
   "cell_type": "code",
   "execution_count": 70,
   "id": "e1845b8b-2db9-4ba9-871a-367cdc3cf928",
   "metadata": {
    "scrolled": true
   },
   "outputs": [
    {
     "data": {
      "application/vnd.jupyter.widget-view+json": {
       "model_id": "5b825c8c215d4a9fa60cbe3666b2b1fd",
       "version_major": 2,
       "version_minor": 0
      },
      "text/plain": [
       "  0%|          | 0/2 [00:00<?, ?it/s]"
      ]
     },
     "metadata": {},
     "output_type": "display_data"
    },
    {
     "data": {
      "application/vnd.jupyter.widget-view+json": {
       "model_id": "ee1017151f454d45b47ff7278e7f4813",
       "version_major": 2,
       "version_minor": 0
      },
      "text/plain": [
       "  0%|          | 0/63 [00:00<?, ?it/s]"
      ]
     },
     "metadata": {},
     "output_type": "display_data"
    },
    {
     "name": "stdout",
     "output_type": "stream",
     "text": [
      "ACCURACY: 0.97, LOSS: 0.09\n"
     ]
    }
   ],
   "source": [
    "def task1(toy_model, optimizer, epochs):\n",
    "    train_dataset, val_dataset, _, _ = create_dataset(init_task=True, disamb=0.5)\n",
    "    \n",
    "    train_dataloader = DataLoader(train_dataset, batch_size=32, shuffle=True, num_workers=0)\n",
    "    val_dataloader = DataLoader(val_dataset, batch_size=32, shuffle=False, num_workers=0)\n",
    "\n",
    "    train_loop(toy_model, train_dataloader, val_dataloader, optimizer, epochs)\n",
    "    acc, loss = val_loop(toy_model, val_dataloader)\n",
    "    print(f\"ACCURACY: {acc:0.2f}, LOSS: {loss:0.2f}\")\n",
    "    \n",
    "task1(toy_model, optimizer, epochs)"
   ]
  },
  {
   "cell_type": "markdown",
   "id": "147e0c8d-c78b-4fd3-8c4f-7d8e07bada8a",
   "metadata": {},
   "source": [
    "### Task 2: Learn mean(f3) > N' if mean(f1) > N else mean(f4) > N'' on ambiguated data \n",
    "\n",
    "ambiguated = where mean(f2) > N is the same label with p=0.98"
   ]
  },
  {
   "cell_type": "code",
   "execution_count": 71,
   "id": "696c857b-185f-469a-be61-7efd98946823",
   "metadata": {},
   "outputs": [],
   "source": [
    "toy_model_new = ToyModel(4*vec_size, interm_size) ## ab 75-80% baseline\n",
    "optimizer_new = torch.optim.Adam(toy_model_new.parameters(), lr=0.001)"
   ]
  },
  {
   "cell_type": "code",
   "execution_count": null,
   "id": "f742d8e9-e0d3-46c5-9ab3-874869681a23",
   "metadata": {},
   "outputs": [
    {
     "data": {
      "application/vnd.jupyter.widget-view+json": {
       "model_id": "f1490ca0f2384cc491399cc8a5d00904",
       "version_major": 2,
       "version_minor": 0
      },
      "text/plain": [
       "  0%|          | 0/2 [00:00<?, ?it/s]"
      ]
     },
     "metadata": {},
     "output_type": "display_data"
    }
   ],
   "source": [
    "def task2(toy_model, optimizer, epochs):\n",
    "    train_dataset, val_dataset, _, _ = create_dataset(init_task=False, disamb=0.00)\n",
    "    \n",
    "    train_dataloader = DataLoader(train_dataset, batch_size=32, shuffle=True, num_workers=0)\n",
    "    val_dataloader = DataLoader(val_dataset, batch_size=32, shuffle=False, num_workers=0)\n",
    "    train_loop(toy_model, train_dataloader, val_dataloader, optimizer, epochs)\n",
    "    acc, loss = val_loop(toy_model, val_dataloader)\n",
    "    print(f\"ACCURACY: {acc:0.2f}, LOSS: {loss:0.2f}\")\n",
    "\n",
    "task2(toy_model, optimizer, epochs)"
   ]
  },
  {
   "cell_type": "code",
   "execution_count": null,
   "id": "b2984d86-b49c-4fe1-84af-e0cbdfd14b05",
   "metadata": {},
   "outputs": [],
   "source": [
    "task2(toy_model_new, optimizer_new, epochs)"
   ]
  },
  {
   "cell_type": "markdown",
   "id": "da5af737-88c2-4a05-85b5-9516f2b7cddb",
   "metadata": {},
   "source": [
    "### Check: whether intermediate data is better at mean(f1) > N or mean(f2) > N on disambiguated data"
   ]
  },
  {
   "cell_type": "code",
   "execution_count": null,
   "id": "be982669-1226-45e3-a48d-1bc8cf4a7f29",
   "metadata": {},
   "outputs": [],
   "source": [
    "train_dataset, val_dataset, alt_train_dataset, alt_val_dataset = create_dataset(init_task=False, disamb=1)\n",
    "\n",
    "label_dataloader = DataLoader(val_dataset, batch_size=32, shuffle=False)\n",
    "alt_label_dataloader = DataLoader(alt_val_dataset, batch_size=32, shuffle=False)"
   ]
  },
  {
   "cell_type": "code",
   "execution_count": null,
   "id": "37436796-13b4-40a4-aac9-ed646212ed22",
   "metadata": {},
   "outputs": [],
   "source": [
    "acc, loss = val_loop(toy_model, label_dataloader)\n",
    "print(f\"F1 LABELS ACCURACY: {acc:0.2f}, LOSS: {loss:0.2f}\")\n",
    "acc, loss = val_loop(toy_model, alt_label_dataloader)\n",
    "print(f\"F2 LABELS ACCURACY: {acc:0.2f}, LOSS: {loss:0.2f}\")"
   ]
  },
  {
   "cell_type": "code",
   "execution_count": null,
   "id": "89979c64-2688-4f4a-95c4-763d700071e3",
   "metadata": {},
   "outputs": [],
   "source": [
    "acc, loss = val_loop(toy_model_new, label_dataloader)\n",
    "print(f\"F1 LABELS ACCURACY: {acc:0.2f}, LOSS: {loss:0.2f}\")\n",
    "acc, loss = val_loop(toy_model_new, alt_label_dataloader)\n",
    "print(f\"F2 LABELS ACCURACY: {acc:0.2f}, LOSS: {loss:0.2f}\")"
   ]
  },
  {
   "cell_type": "code",
   "execution_count": null,
   "id": "fe393f4a-1a9c-4f9a-abcd-3a25d15f8725",
   "metadata": {},
   "outputs": [],
   "source": [
    "layer1_biased = toy_model.fc1\n",
    "layer1_control = toy_model_new.fc1\n",
    "\n",
    "train_dataset, val_dataset, alt_train_dataset, alt_val_dataset = create_dataset(init_task=True, disamb=0.5)\n",
    "## need to be ambiguous be maximally random"
   ]
  },
  {
   "cell_type": "code",
   "execution_count": null,
   "id": "fb36c7c5-a685-4ffa-b293-26e5af41dbb6",
   "metadata": {},
   "outputs": [],
   "source": [
    "from sklearn.decomposition import PCA\n",
    "import matplotlib.pyplot as plt\n",
    "\n",
    "def plot_pcas(interm_train, labels_train, alt_labels_train, title=\"biased\"):\n",
    "    fig, axs = plt.subplots(1, 2, figsize=(10, 5))\n",
    "    \n",
    "    disamb_learn_numpy = interm_train.detach().numpy()\n",
    "    pca = PCA(n_components=2)\n",
    "    data_pca = pca.fit_transform(disamb_learn_numpy)\n",
    "    \n",
    "    for i, labels_curr in enumerate([labels_train, alt_labels_train]):\n",
    "        labels_numpy = labels_curr.squeeze()\n",
    "        unique_labels = np.unique(labels_numpy)\n",
    "        colors = plt.cm.get_cmap('viridis', len(unique_labels))\n",
    "        \n",
    "        for j, label in enumerate(unique_labels):\n",
    "            axs[i].scatter(data_pca[labels_numpy == label, 0], data_pca[labels_numpy == label, 1], \n",
    "                        alpha=0.5, color=colors(j), label=f\"Label {label}\")\n",
    "        \n",
    "        axs[i].set_title(f\"Separation of mean(f{i+1}) > N\")\n",
    "        axs[i].set_xlabel(\"Principal Component 1\")\n",
    "        axs[i].set_ylabel(\"Principal Component 2\")\n",
    "        axs[i].legend()\n",
    "        axs[i].grid(True)\n",
    "\n",
    "    plt.suptitle(title)\n",
    "    plt.show()\n",
    "\n",
    "interm_train_biased, interm_val_biased = layer1_biased(train_dataset.tensors[0]), layer1_biased(val_dataset.tensors[0])\n",
    "labels_train, labels_val = train_dataset.tensors[1], val_dataset.tensors[1]\n",
    "alt_labels_train, alt_labels_val = alt_train_dataset.tensors[1], alt_val_dataset.tensors[1]\n",
    "\n",
    "plot_pcas(interm_train_biased, labels_train, alt_labels_train, title=\"Pretrained\")\n",
    "\n",
    "interm_train_control, interm_val = layer1_control(train_dataset.tensors[0]), layer1_control(val_dataset.tensors[0])\n",
    "\n",
    "plot_pcas(interm_train_control, labels_train, alt_labels_train, title=\"Not Pretrained\")"
   ]
  },
  {
   "cell_type": "code",
   "execution_count": null,
   "id": "3fd5880f-227d-4597-92f9-67331b65b301",
   "metadata": {},
   "outputs": [],
   "source": [
    "import scipy\n",
    "\n",
    "scipy.stats.pearsonr(labels_train.squeeze(), alt_labels_train.squeeze()) \n",
    "## uncorrelated"
   ]
  },
  {
   "cell_type": "code",
   "execution_count": 139,
   "id": "9223b1af-1903-4080-b2bf-04b6400a0887",
   "metadata": {},
   "outputs": [
    {
     "data": {
      "text/plain": [
       "(8000, 128)"
      ]
     },
     "execution_count": 139,
     "metadata": {},
     "output_type": "execute_result"
    }
   ],
   "source": [
    "disamb_learn_numpy.shape"
   ]
  },
  {
   "cell_type": "code",
   "execution_count": 140,
   "id": "034b33d6-4cb2-4107-a0e4-d3ea0c289b91",
   "metadata": {},
   "outputs": [
    {
     "data": {
      "text/plain": [
       "torch.Size([8000, 1])"
      ]
     },
     "execution_count": 140,
     "metadata": {},
     "output_type": "execute_result"
    }
   ],
   "source": [
    "labels_train.shape"
   ]
  },
  {
   "cell_type": "code",
   "execution_count": 141,
   "id": "a30d8ce9-b2ba-4b8e-88ac-227940998bb9",
   "metadata": {},
   "outputs": [
    {
     "data": {
      "image/png": "[encoded data removed]",
      "text/plain": [
       "<Figure size 640x480 with 1 Axes>"
      ]
     },
     "metadata": {},
     "output_type": "display_data"
    },
    {
     "name": "stdout",
     "output_type": "stream",
     "text": [
      "Max Corr Label 0.5988681562903855 , Max Corr Alt Label 0.5482244454480574\n",
      "\n",
      "Top 10 Corr Label [0.59886816 0.55941821 0.55115218 0.54402599 0.5433952  0.52871933\n",
      " 0.52069526 0.51768924 0.48808707 0.46045053] \n",
      "Top 10 Corr Alt Label [0.54822445 0.47418461 0.46007081 0.43732092 0.42496988 0.41557385\n",
      " 0.40782031 0.40142805 0.39683998 0.39470528]\n"
     ]
    }
   ],
   "source": [
    "corr_label_dims = [scipy.stats.pearsonr(labels_train.squeeze(), interm_train.detach()[:, i]).statistic for i in range(interm_train.shape[1])]\n",
    "corr_alt_label_dims = [scipy.stats.pearsonr(alt_labels_train.squeeze(), interm_train.detach()[:, i]).statistic for i in range(interm_train.shape[1])]\n",
    "\n",
    "plt.hist(corr_label_dims, alpha=0.5, label='List 1')\n",
    "plt.hist(corr_alt_label_dims, alpha=0.5, label='List 2')\n",
    "plt.title('Histogram of Correlation of Dimensions')\n",
    "plt.xlabel('Corr')\n",
    "plt.ylabel('Frequency')\n",
    "plt.legend(['Label', 'Alt Label'])\n",
    "\n",
    "plt.show()\n",
    "\n",
    "print('Max Corr Label', max(corr_label_dims), ', Max Corr Alt Label', max(corr_alt_label_dims))\n",
    "print('\\nTop 10 Corr Label', torch.topk(torch.tensor(corr_label_dims), 10).values.numpy(), '\\nTop 10 Corr Alt Label', torch.topk(torch.tensor(corr_alt_label_dims), 10).values.numpy())"
   ]
  },
  {
   "cell_type": "markdown",
   "id": "49a08bcc-ea79-4ed2-b752-865085c2e283",
   "metadata": {},
   "source": [
    "Have some higher frequency of correlation, which is important/shows some difference potentially"
   ]
  },
  {
   "cell_type": "code",
   "execution_count": 142,
   "id": "d5383fc0-fa76-4767-ad51-f1e5b0ee58f2",
   "metadata": {},
   "outputs": [],
   "source": [
    "class Probe(pl.LightningModule):\n",
    "    def __init__(self, num_features: int):\n",
    "        super().__init__()\n",
    "        self.save_hyperparameters()\n",
    "        \n",
    "        self.body = nn.Linear(num_features, 1, bias=False)\n",
    "        \n",
    "    def configure_optimizers(self):\n",
    "        optimizer = torch.optim.AdamW(self.parameters(), lr=1e-2)\n",
    "        return optimizer\n",
    "\n",
    "    def training_step(self, batch, batch_idx):\n",
    "        loss, logs = self.step(batch)\n",
    "        self.log(\"train_loss\", loss, on_step=True, on_epoch=True, prog_bar=True, logger=True)\n",
    "        self.log(\"train_acc\", logs[\"acc\"], on_step=True, on_epoch=True, prog_bar=True, logger=True)\n",
    "        return {\"loss\": loss, \"train_loss\": logs[\"acc\"]}\n",
    "        return loss\n",
    "\n",
    "    def validation_step(self, batch, batch_idx):\n",
    "        loss, logs = self.step(batch)\n",
    "        self.log(\"val_loss\", loss.item(), on_step=True, on_epoch=True, prog_bar=True, logger=True)\n",
    "        self.log(\"val_acc\", logs[\"acc\"], on_step=True, on_epoch=True, prog_bar=True, logger=True)\n",
    "        return {\"loss\": loss, \"val_acc\": logs[\"acc\"]}\n",
    "    \n",
    "    def step(self, batch):\n",
    "        x, y = batch\n",
    "        logits = self.forward(x)\n",
    "        loss = F.binary_cross_entropy(torch.sigmoid(logits), y)\n",
    "        acc = ((logits.squeeze() > 0.5).float() == y.squeeze()).float().mean()\n",
    "        return loss, {\"loss\": loss.item(), \"acc\": acc.item()}\n",
    "    \n",
    "    def forward(self, x):\n",
    "        if isinstance(x, list):\n",
    "            x, _ = x\n",
    "        return self.body(x)"
   ]
  },
  {
   "cell_type": "code",
   "execution_count": 143,
   "id": "cbed86ea-9d19-4d4b-b57a-2c9aeac8cf8c",
   "metadata": {},
   "outputs": [],
   "source": [
    "train_size = int(0.8 * len(interm_train))\n",
    "\n",
    "train_dataset = TensorDataset(interm_train.detach(), labels_train.view(-1, 1))\n",
    "val_dataset = TensorDataset(interm_val.detach(), labels_val.view(-1, 1))\n",
    "\n",
    "train_dataset_alt = TensorDataset(interm_train.detach(), alt_labels_train.view(-1, 1))\n",
    "val_dataset_alt = TensorDataset(interm_val.detach(), alt_labels_val.view(-1, 1))\n",
    "\n",
    "train_dataloader = DataLoader(train_dataset, batch_size=32, shuffle=True)\n",
    "val_dataloader = DataLoader(val_dataset, batch_size=32, shuffle=False)\n",
    "\n",
    "train_dataloader_alt = DataLoader(train_dataset_alt, batch_size=32, shuffle=True)\n",
    "val_dataloader_alt = DataLoader(val_dataset_alt, batch_size=32, shuffle=False)\n",
    "\n",
    "probe_labels = Probe(interm_train.shape[1]).to(device)\n",
    "probe_alt_labels = Probe(interm_train.shape[1]).to(device)"
   ]
  },
  {
   "cell_type": "code",
   "execution_count": 146,
   "id": "32eb35d7-d4d9-4ef3-8d0c-d61a026c0251",
   "metadata": {},
   "outputs": [
    {
     "name": "stderr",
     "output_type": "stream",
     "text": [
      "GPU available: False, used: False\n",
      "TPU available: False, using: 0 TPU cores\n",
      "IPU available: False, using: 0 IPUs\n",
      "HPU available: False, using: 0 HPUs\n",
      "\n",
      "  | Name | Type   | Params\n",
      "--------------------------------\n",
      "0 | body | Linear | 128   \n",
      "--------------------------------\n",
      "128       Trainable params\n",
      "0         Non-trainable params\n",
      "128       Total params\n",
      "0.001     Total estimated model params size (MB)\n"
     ]
    },
    {
     "data": {
      "application/vnd.jupyter.widget-view+json": {
       "model_id": "",
       "version_major": 2,
       "version_minor": 0
      },
      "text/plain": [
       "Sanity Checking: 0it [00:00, ?it/s]"
      ]
     },
     "metadata": {},
     "output_type": "display_data"
    },
    {
     "data": {
      "application/vnd.jupyter.widget-view+json": {
       "model_id": "1c1b2c3a6d22431db4113cd15bec16f2",
       "version_major": 2,
       "version_minor": 0
      },
      "text/plain": [
       "Training: 0it [00:00, ?it/s]"
      ]
     },
     "metadata": {},
     "output_type": "display_data"
    },
    {
     "data": {
      "application/vnd.jupyter.widget-view+json": {
       "model_id": "",
       "version_major": 2,
       "version_minor": 0
      },
      "text/plain": [
       "Validation: 0it [00:00, ?it/s]"
      ]
     },
     "metadata": {},
     "output_type": "display_data"
    },
    {
     "data": {
      "application/vnd.jupyter.widget-view+json": {
       "model_id": "",
       "version_major": 2,
       "version_minor": 0
      },
      "text/plain": [
       "Validation: 0it [00:00, ?it/s]"
      ]
     },
     "metadata": {},
     "output_type": "display_data"
    },
    {
     "name": "stderr",
     "output_type": "stream",
     "text": [
      "`Trainer.fit` stopped: `max_epochs=2` reached.\n"
     ]
    },
    {
     "data": {
      "application/vnd.jupyter.widget-view+json": {
       "model_id": "6f512b5be3b34723bdcb7a57b6e75714",
       "version_major": 2,
       "version_minor": 0
      },
      "text/plain": [
       "Validation: 0it [00:00, ?it/s]"
      ]
     },
     "metadata": {},
     "output_type": "display_data"
    },
    {
     "data": {
      "text/html": [
       "<pre style=\"white-space:pre;overflow-x:auto;line-height:normal;font-family:Menlo,'DejaVu Sans Mono',consolas,'Courier New',monospace\">┏━━━━━━━━━━━━━━━━━━━━━━━━━━━┳━━━━━━━━━━━━━━━━━━━━━━━━━━━┓\n",
       "┃<span style=\"font-weight: bold\">      Validate metric      </span>┃<span style=\"font-weight: bold\">       DataLoader 0        </span>┃\n",
       "┡━━━━━━━━━━━━━━━━━━━━━━━━━━━╇━━━━━━━━━━━━━━━━━━━━━━━━━━━┩\n",
       "│<span style=\"color: #008080; text-decoration-color: #008080\">       val_acc_epoch       </span>│<span style=\"color: #800080; text-decoration-color: #800080\">    0.9664999842643738     </span>│\n",
       "│<span style=\"color: #008080; text-decoration-color: #008080\">      val_loss_epoch       </span>│<span style=\"color: #800080; text-decoration-color: #800080\">    0.05521305650472641    </span>│\n",
       "└───────────────────────────┴───────────────────────────┘\n",
       "</pre>\n"
      ],
      "text/plain": [
       "┏━━━━━━━━━━━━━━━━━━━━━━━━━━━┳━━━━━━━━━━━━━━━━━━━━━━━━━━━┓\n",
       "┃\u001b[1m \u001b[0m\u001b[1m     Validate metric     \u001b[0m\u001b[1m \u001b[0m┃\u001b[1m \u001b[0m\u001b[1m      DataLoader 0       \u001b[0m\u001b[1m \u001b[0m┃\n",
       "┡━━━━━━━━━━━━━━━━━━━━━━━━━━━╇━━━━━━━━━━━━━━━━━━━━━━━━━━━┩\n",
       "│\u001b[36m \u001b[0m\u001b[36m      val_acc_epoch      \u001b[0m\u001b[36m \u001b[0m│\u001b[35m \u001b[0m\u001b[35m   0.9664999842643738    \u001b[0m\u001b[35m \u001b[0m│\n",
       "│\u001b[36m \u001b[0m\u001b[36m     val_loss_epoch      \u001b[0m\u001b[36m \u001b[0m│\u001b[35m \u001b[0m\u001b[35m   0.05521305650472641   \u001b[0m\u001b[35m \u001b[0m│\n",
       "└───────────────────────────┴───────────────────────────┘\n"
      ]
     },
     "metadata": {},
     "output_type": "display_data"
    },
    {
     "data": {
      "text/plain": [
       "[{'val_loss_epoch': 0.05521305650472641, 'val_acc_epoch': 0.9664999842643738}]"
      ]
     },
     "execution_count": 146,
     "metadata": {},
     "output_type": "execute_result"
    }
   ],
   "source": [
    "trainer = Trainer(max_epochs=epochs)\n",
    "trainer.fit(probe_labels, train_dataloader, val_dataloader)\n",
    "trainer.validate(probe_labels, val_dataloader)"
   ]
  },
  {
   "cell_type": "code",
   "execution_count": 147,
   "id": "e1753613-0956-4dfc-875e-1aa986f4425b",
   "metadata": {},
   "outputs": [
    {
     "name": "stderr",
     "output_type": "stream",
     "text": [
      "GPU available: False, used: False\n",
      "TPU available: False, using: 0 TPU cores\n",
      "IPU available: False, using: 0 IPUs\n",
      "HPU available: False, using: 0 HPUs\n",
      "\n",
      "  | Name | Type   | Params\n",
      "--------------------------------\n",
      "0 | body | Linear | 128   \n",
      "--------------------------------\n",
      "128       Trainable params\n",
      "0         Non-trainable params\n",
      "128       Total params\n",
      "0.001     Total estimated model params size (MB)\n"
     ]
    },
    {
     "data": {
      "application/vnd.jupyter.widget-view+json": {
       "model_id": "",
       "version_major": 2,
       "version_minor": 0
      },
      "text/plain": [
       "Sanity Checking: 0it [00:00, ?it/s]"
      ]
     },
     "metadata": {},
     "output_type": "display_data"
    },
    {
     "data": {
      "application/vnd.jupyter.widget-view+json": {
       "model_id": "bf1b8135b2c0413d84e9cd15b63ef289",
       "version_major": 2,
       "version_minor": 0
      },
      "text/plain": [
       "Training: 0it [00:00, ?it/s]"
      ]
     },
     "metadata": {},
     "output_type": "display_data"
    },
    {
     "data": {
      "application/vnd.jupyter.widget-view+json": {
       "model_id": "",
       "version_major": 2,
       "version_minor": 0
      },
      "text/plain": [
       "Validation: 0it [00:00, ?it/s]"
      ]
     },
     "metadata": {},
     "output_type": "display_data"
    },
    {
     "name": "stderr",
     "output_type": "stream",
     "text": [
      "`Trainer.fit` stopped: `max_epochs=1` reached.\n"
     ]
    },
    {
     "data": {
      "application/vnd.jupyter.widget-view+json": {
       "model_id": "cc379eeb3eed439b9ed4abdc35fc7643",
       "version_major": 2,
       "version_minor": 0
      },
      "text/plain": [
       "Validation: 0it [00:00, ?it/s]"
      ]
     },
     "metadata": {},
     "output_type": "display_data"
    },
    {
     "data": {
      "text/html": [
       "<pre style=\"white-space:pre;overflow-x:auto;line-height:normal;font-family:Menlo,'DejaVu Sans Mono',consolas,'Courier New',monospace\">┏━━━━━━━━━━━━━━━━━━━━━━━━━━━┳━━━━━━━━━━━━━━━━━━━━━━━━━━━┓\n",
       "┃<span style=\"font-weight: bold\">      Validate metric      </span>┃<span style=\"font-weight: bold\">       DataLoader 0        </span>┃\n",
       "┡━━━━━━━━━━━━━━━━━━━━━━━━━━━╇━━━━━━━━━━━━━━━━━━━━━━━━━━━┩\n",
       "│<span style=\"color: #008080; text-decoration-color: #008080\">       val_acc_epoch       </span>│<span style=\"color: #800080; text-decoration-color: #800080\">    0.9564999938011169     </span>│\n",
       "│<span style=\"color: #008080; text-decoration-color: #008080\">      val_loss_epoch       </span>│<span style=\"color: #800080; text-decoration-color: #800080\">    0.0874154269695282     </span>│\n",
       "└───────────────────────────┴───────────────────────────┘\n",
       "</pre>\n"
      ],
      "text/plain": [
       "┏━━━━━━━━━━━━━━━━━━━━━━━━━━━┳━━━━━━━━━━━━━━━━━━━━━━━━━━━┓\n",
       "┃\u001b[1m \u001b[0m\u001b[1m     Validate metric     \u001b[0m\u001b[1m \u001b[0m┃\u001b[1m \u001b[0m\u001b[1m      DataLoader 0       \u001b[0m\u001b[1m \u001b[0m┃\n",
       "┡━━━━━━━━━━━━━━━━━━━━━━━━━━━╇━━━━━━━━━━━━━━━━━━━━━━━━━━━┩\n",
       "│\u001b[36m \u001b[0m\u001b[36m      val_acc_epoch      \u001b[0m\u001b[36m \u001b[0m│\u001b[35m \u001b[0m\u001b[35m   0.9564999938011169    \u001b[0m\u001b[35m \u001b[0m│\n",
       "│\u001b[36m \u001b[0m\u001b[36m     val_loss_epoch      \u001b[0m\u001b[36m \u001b[0m│\u001b[35m \u001b[0m\u001b[35m   0.0874154269695282    \u001b[0m\u001b[35m \u001b[0m│\n",
       "└───────────────────────────┴───────────────────────────┘\n"
      ]
     },
     "metadata": {},
     "output_type": "display_data"
    },
    {
     "data": {
      "text/plain": [
       "[{'val_loss_epoch': 0.0874154269695282, 'val_acc_epoch': 0.9564999938011169}]"
      ]
     },
     "execution_count": 147,
     "metadata": {},
     "output_type": "execute_result"
    }
   ],
   "source": [
    "trainer = Trainer(max_epochs=1)\n",
    "trainer.fit(probe_alt_labels, train_dataloader_alt, val_dataloader_alt)\n",
    "trainer.validate(probe_alt_labels, val_dataloader_alt)"
   ]
  },
  {
   "cell_type": "markdown",
   "id": "e4f46951-c624-4a83-ac2a-03e48bf810be",
   "metadata": {},
   "source": [
    "## TRANSPLANTATION"
   ]
  },
  {
   "cell_type": "code",
   "execution_count": null,
   "id": "3cade8b7-74df-4c5e-ada9-469b4f5c8b5f",
   "metadata": {},
   "outputs": [],
   "source": [
    "PYTHIA_VOCAB_SIZE = 50277 #50304\n",
    "N_LAYERS=12\n",
    "MODEL = \"EleutherAI/pythia-160m\"\n",
    "PYTHIA_CHECKPOINTS_OLD = [0, 1, 2, 4, 8, 16, 32, 64, 128, 256, 512] + list(range(1000, 143000 + 1, 10000)) + [143000]\n",
    "PYTHIA_CHECKPOINTS = [512] + list(range(1000, 10000 + 1, 1000))\n",
    "\n",
    "HeadName = Literal[\"previous_token_head\", \"duplicate_token_head\", \"induction_head\"]\n",
    "HEAD_NAMES = cast(List[HeadName], get_args(HeadName))"
   ]
  },
  {
   "cell_type": "code",
   "execution_count": null,
   "id": "f0a3f3d7-1203-4760-b3b8-594a801479cd",
   "metadata": {},
   "outputs": [],
   "source": [
    "def create_repeats_dataset(num_samples=50, min_vector_size=5, max_vector_size=50, min_num_repeats=5, max_num_repeats=20, max_vocab=PYTHIA_VOCAB_SIZE):\n",
    "  \"\"\"Creates a dataset for the experiment.\"\"\"\n",
    "  dataset = []\n",
    "  for _ in range(num_samples):\n",
    "    vector_size = torch.randint(min_vector_size, max_vector_size, (1,)).item()\n",
    "    num_repeats = torch.randint(min_num_repeats, max_num_repeats, (1,)).item()\n",
    "    tokens = torch.randint(0, max_vocab, (1, vector_size))\n",
    "    tokens = tokens.repeat((1, num_repeats))\n",
    "    dataset.append(tokens)\n",
    "  return dataset"
   ]
  },
  {
   "cell_type": "code",
   "execution_count": null,
   "id": "4ed88b97-5755-4cb5-9252-bcd1f95c5c33",
   "metadata": {},
   "outputs": [],
   "source": [
    "dataset = torch.load('../outputs/aheads/dataset.pt')"
   ]
  },
  {
   "cell_type": "code",
   "execution_count": 10,
   "id": "9fa1061d-1a82-4180-975d-304e701a3996",
   "metadata": {},
   "outputs": [],
   "source": [
    "device = torch.device(\"cuda\" if torch.cuda.is_available() else \"cpu\")"
   ]
  },
  {
   "cell_type": "code",
   "execution_count": 11,
   "id": "6b8aaa62-84a9-4c7f-8611-a966b7c29a2a",
   "metadata": {},
   "outputs": [],
   "source": [
    "def copy_attention_head(model1, model2, layer_idx, head_idx, dataset):\n",
    "  if model1.isinstance(HookedTransformer) and model2.isinstance(HookedTransformer):\n",
    "    model1.W_K.data[layer_idx, head_idx, :, :] = model2.W_K.data[layer_idx, head_idx, :, :]\n",
    "    model1.W_Q.data[layer_idx, head_idx, :, :] = model2.W_Q.data[layer_idx, head_idx, :, :]\n",
    "    model1.W_V.data[layer_idx, head_idx, :, :] = model2.W_V.data[layer_idx, head_idx, :, :]\n",
    "    model1.b_K.data[layer_idx, head_idx, :] = model2.b_K.data[layer_idx, head_idx, :]\n",
    "    model1.b_Q.data[layer_idx, head_idx, :] = model2.b_Q.data[layer_idx, head_idx, :]\n",
    "    model1.b_V.data[layer_idx, head_idx, :] = model2.b_V.data[layer_idx, head_idx, :]\n",
    "  else:\n",
    "    model1.encoder.layers[layer_idx].self_attn.in_proj_weight.data[head_idx,:,:] = model2.encoder.layers[layer_idx].self_attn.in_proj_weight.data[head_idx,:,:]\n",
    "  return perplexity(model1, dataset), perplexity(model2, dataset)\n"
   ]
  },
  {
   "cell_type": "code",
   "execution_count": 13,
   "id": "a891be09-fbcc-4487-aa72-42fdcfb25203",
   "metadata": {},
   "outputs": [],
   "source": [
    "def calculate_perplexity(corpus, model, device=\"cpu\"):\n",
    "    encoded_input = model.to_tokens(corpus)\n",
    "    encoded_input = encoded_input.to(device)\n",
    "    with torch.no_grad():\n",
    "      outputs = model(encoded_input).squeeze(0)\n",
    "      loss = F.cross_entropy(outputs, encoded_input.squeeze(0), reduction='sum')/encoded_input.shape[1]\n",
    "    perplexity = torch.exp(loss).item()\n",
    "    return perplexity"
   ]
  },
  {
   "cell_type": "code",
   "execution_count": 15,
   "id": "dbe7c40a-eb0a-45a2-a8f6-86b2a581175b",
   "metadata": {},
   "outputs": [],
   "source": [
    "def perplexity(model, dataset):\n",
    "  data_loader = torch.utils.data.DataLoader(dataset, batch_size=16, shuffle=False)\n",
    "  with torch.no_grad():\n",
    "    for batch in data_loader:\n",
    "      inputs, targets = batch\n",
    "      outputs = model(inputs)\n",
    "      loss = F.cross_entropy(outputs, targets, reduction='sum')\n",
    "      total_loss += loss.item()\n",
    "    average_loss = total_loss / len(data_loader.dataset)\n",
    "    return torch.exp(torch.tensor(average_loss))"
   ]
  },
  {
   "cell_type": "code",
   "execution_count": null,
   "id": "35b33722-f007-48c9-bbfd-0a231387a349",
   "metadata": {},
   "outputs": [],
   "source": []
  }
 ],
 "metadata": {
  "kernelspec": {
   "display_name": "Python 3 (ipykernel)",
   "language": "python",
   "name": "python3"
  },
  "language_info": {
   "codemirror_mode": {
    "name": "ipython",
    "version": 3
   },
   "file_extension": ".py",
   "mimetype": "text/x-python",
   "name": "python",
   "nbconvert_exporter": "python",
   "pygments_lexer": "ipython3",
   "version": "3.9.16"
  }
 },
 "nbformat": 4,
 "nbformat_minor": 5
}
