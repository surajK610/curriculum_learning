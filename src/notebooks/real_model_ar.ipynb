{
 "cells": [
  {
   "cell_type": "code",
   "execution_count": 1,
   "id": "041fd67c-a047-4b38-b4d6-43cb3a321bcc",
   "metadata": {},
   "outputs": [
    {
     "name": "stderr",
     "output_type": "stream",
     "text": [
      "/users/sanand14/.local/lib/python3.9/site-packages/torchvision/io/image.py:13: UserWarning: Failed to load image Python extension: /oscar/home/sanand14/.local/lib/python3.9/site-packages/torchvision/image.so: undefined symbol: _ZN3c104cuda20CUDACachingAllocator12recordStreamERKNS_7DataPtrENS0_10CUDAStreamE\n",
      "  warn(f\"Failed to load image Python extension: {e}\")\n"
     ]
    },
    {
     "name": "stdout",
     "output_type": "stream",
     "text": [
      "[2024-11-17 14:00:50,978] [INFO] [real_accelerator.py:191:get_accelerator] Setting ds_accelerator to cuda (auto detect)\n"
     ]
    }
   ],
   "source": [
    "from collections import defaultdict\n",
    "import logging\n",
    "from typing import cast, Dict, List, Tuple, Union, Callable\n",
    "from typing_extensions import get_args, Literal\n",
    "import sys\n",
    "import os\n",
    "import numpy as np\n",
    "import random \n",
    "import seaborn as sns\n",
    "from PIL import Image\n",
    "import re\n",
    "from scipy.stats import spearmanr\n",
    "from matplotlib.legend_handler import HandlerLine2D\n",
    "import torch\n",
    "import torch.nn as nn\n",
    "import torch.nn.functional as F\n",
    "import json\n",
    "\n",
    "import yaml\n",
    "import argparse\n",
    "import pandas as pd\n",
    "from tqdm.notebook import tqdm\n",
    "from functools import partial\n",
    "\n",
    "from torch.utils.data import DataLoader, TensorDataset\n",
    "\n",
    "sys.path.append('/users/sanand14/data/sanand14/learning_dynamics/src/experiments/utils')\n",
    "sys.path.append('/users/sanand14/data/sanand14/learning_dynamics/src/experiments')\n",
    "\n",
    "from aheads import create_repeats_dataset\n",
    "from sklearn.decomposition import PCA\n",
    "import matplotlib.pyplot as plt\n",
    "import matplotlib\n",
    "from transformers import BertConfig, BertForMaskedLM, AdamW\n",
    "\n",
    "import matplotlib.style as style\n",
    "style.use('ggplot')\n",
    "\n",
    "from toy_model import TrainingPipeline\n",
    "from utils.toy_utils import bin_train_loop, create_dataloaders_bin, Probe, POSVocabGenerator, plot_pca_embeddings\n",
    "from utils.forgetting_utils import AdamEF\n",
    "from dataclasses import dataclass, field\n",
    "\n",
    "from sklearn.manifold import TSNE\n",
    "from sklearn.decomposition import PCA\n",
    "import matplotlib.colors as mcolors\n",
    "import matplotlib.pyplot as plt\n",
    "import matplotlib.colors as mcolors\n",
    "import matplotlib.gridspec as gridspec\n",
    "from sklearn.decomposition import PCA\n",
    "from sklearn.manifold import TSNE\n",
    "import torch"
   ]
  },
  {
   "cell_type": "markdown",
   "id": "470e82ea-34c8-4837-bae0-69d084585944",
   "metadata": {},
   "source": [
    "vocab size 10,000, amb 0.10, unif, stop forgetting after 20000"
   ]
  },
  {
   "cell_type": "code",
   "execution_count": 2,
   "id": "aaddb940-0364-431b-a745-2d8e36b87569",
   "metadata": {},
   "outputs": [],
   "source": [
    "sns.set_theme(context=\"paper\", style=\"ticks\", rc={\"lines.linewidth\": 2})"
   ]
  },
  {
   "cell_type": "code",
   "execution_count": 3,
   "id": "dd5e2360-b92b-427f-b31f-b12dd17399e8",
   "metadata": {},
   "outputs": [],
   "source": [
    "import torch\n",
    "import torch.nn as nn\n",
    "from torch.utils.data import DataLoader, Dataset\n",
    "from transformers import GPT2Config, GPT2LMHeadModel, AdamW, get_linear_schedule_with_warmup\n",
    "import random\n",
    "import numpy as np\n",
    "from dataclasses import dataclass, field\n",
    "from typing import List, Callable\n",
    "from tqdm import tqdm"
   ]
  },
  {
   "cell_type": "markdown",
   "id": "44ceb63d-f359-4c3d-885f-8acd49e01e0a",
   "metadata": {},
   "source": [
    "## Some Run Examples"
   ]
  },
  {
   "cell_type": "code",
   "execution_count": 4,
   "id": "85860077-e96e-4df6-8e1e-a93a0dfa65c9",
   "metadata": {},
   "outputs": [],
   "source": [
    "import itertools"
   ]
  },
  {
   "cell_type": "code",
   "execution_count": 5,
   "id": "ed7d0e14-dfde-48b5-b144-cfb60d17701e",
   "metadata": {},
   "outputs": [],
   "source": [
    "PYTHIA_VOCAB_SIZE = 50277 #50304\n",
    "N_LAYERS=12\n",
    "PYTHIA_CHECKPOINTS_OLD = [0, 1, 2, 4, 8, 16, 32, 64, 128, 256, 512] + list(range(1000, 143000 + 1, 10000)) + [143000]\n",
    "PYTHIA_CHECKPOINTS = [512] + list(range(1000, 10000 + 1, 1000))"
   ]
  },
  {
   "cell_type": "code",
   "execution_count": 6,
   "id": "5460a1ed-bf01-4775-b506-430acae2646c",
   "metadata": {},
   "outputs": [],
   "source": [
    "from transformers import AutoTokenizer, AutoModel"
   ]
  },
  {
   "cell_type": "code",
   "execution_count": 7,
   "id": "7226408d-73b4-4500-b799-37a790fa8ab3",
   "metadata": {},
   "outputs": [],
   "source": [
    "from transformer_lens import HookedTransformer\n"
   ]
  },
  {
   "cell_type": "code",
   "execution_count": 8,
   "id": "c0238471-f3a2-4b60-9c64-eafd08136cce",
   "metadata": {},
   "outputs": [],
   "source": [
    "device = \"cuda\""
   ]
  },
  {
   "cell_type": "code",
   "execution_count": 9,
   "id": "cf718bd5-1fe5-49d5-b645-28d5a4409697",
   "metadata": {},
   "outputs": [],
   "source": [
    "vocabulary = [\n",
    "        \" A\",\n",
    "        \" B\",\n",
    "        \" C\",\n",
    "        \" D\",\n",
    "        \" E\",\n",
    "        \" F\",\n",
    "        \" G\",\n",
    "        \" H\",\n",
    "        \" I\",\n",
    "        \" J\",\n",
    "        \" K\",\n",
    "        \" L\",\n",
    "        \" M\",\n",
    "        \" N\",\n",
    "        \" O\",\n",
    "        \" P\",\n",
    "        \" Q\",\n",
    "        \" R\",\n",
    "        \" S\",\n",
    "        \" T\",\n",
    "        \" U\",\n",
    "        \" V\",\n",
    "        \" W\",\n",
    "        \" X\",\n",
    "        \" Y\",\n",
    "        \" Z\",\n",
    "    ]"
   ]
  },
  {
   "cell_type": "code",
   "execution_count": 10,
   "id": "8845e280-2311-4af0-9aeb-ff6cdc9c0797",
   "metadata": {},
   "outputs": [],
   "source": [
    "def logits_to_logit_diff(model, logits, correct_answer, incorrect_answer):\n",
    "    \"\"\"Compute logit difference\"\"\"\n",
    "    correct_idx = model.to_single_token(correct_answer)\n",
    "    incorrect_idx = model.to_single_token(incorrect_answer)\n",
    "    return logits[0, -1, correct_idx] - logits[0, -1, incorrect_idx]"
   ]
  },
  {
   "cell_type": "code",
   "execution_count": 11,
   "id": "897e9b89-0567-4fbb-abe8-7b1b8b90be13",
   "metadata": {},
   "outputs": [],
   "source": [
    "def generate_abstract_example(vocab_set, idx_1, idx_2, idx_3, nonce=False):\n",
    "    \"\"\"Helper function to generate abstract example\"\"\"\n",
    "    item_1 = random.choice([f' [NEW_TOKEN{i}]' for i in range(20)]) if nonce else vocab_set[idx_1]\n",
    "    item_2 = vocab_set[idx_2]\n",
    "    item_3 = vocab_set[idx_3]\n",
    "    \n",
    "    prompt = (\n",
    "        f\"All{item_1} are{item_2}. \"\n",
    "        + f\"All{item_2} are{item_3}. \"\n",
    "        + f\"Therefore, all{item_1} are\"\n",
    "    )\n",
    "    label = item_3\n",
    "    wrong_label = item_2\n",
    "    return prompt, label, wrong_label"
   ]
  },
  {
   "cell_type": "code",
   "execution_count": 12,
   "id": "d45455e7-5500-42f9-b41d-7fba6368fcfc",
   "metadata": {},
   "outputs": [],
   "source": [
    "def behavioral_analysis(\n",
    "    data_size, model, vocabulary, q_type, correct_label, incorrect_label, device, nonce=False\n",
    "):\n",
    "    \"\"\"Main function\"\"\"\n",
    "    # torch.set_grad_enabled(False)\n",
    "\n",
    "    data = {\n",
    "        \"clean_x\": [],\n",
    "        \"clean_y\": [],\n",
    "        \"wrong_y\": [],\n",
    "    }\n",
    "\n",
    "    for _ in range(data_size):\n",
    "        vocab_set = np.random.choice(vocabulary, 8, replace=False)\n",
    "        vocab_set_1 = vocab_set[:4]\n",
    "        clean_x, clean_y, wrong_y = generate_abstract_example(vocab_set_1, 0, 1, 2, nonce=nonce)\n",
    "        data[\"clean_x\"].append(clean_x)\n",
    "        data[\"clean_y\"].append(clean_y)\n",
    "        data[\"wrong_y\"].append(wrong_y)\n",
    "    accuracy = []\n",
    "    total_samples = len(data[\"clean_x\"])\n",
    "    for i in range(total_samples):\n",
    "\n",
    "        if i % 25 == 0:\n",
    "            print(f\"Progress: {round(i/total_samples, 3)}\")\n",
    "            \n",
    "        clean_prompt = data[q_type][i]\n",
    "        clean_label = data[correct_label][i]\n",
    "        cf_label = data[incorrect_label][i]\n",
    "\n",
    "        clean_tokens = model.to_tokens(clean_prompt)\n",
    "        logits = model(clean_tokens)\n",
    "\n",
    "        accuracy.append(logits_to_logit_diff(model, logits, clean_label, cf_label) > 0)\n",
    "\n",
    "    print(f\"Model Accuracy: {torch.mean(torch.Tensor(accuracy))}\")\n",
    "    return torch.mean(torch.Tensor(accuracy))\n"
   ]
  },
  {
   "cell_type": "code",
   "execution_count": 18,
   "id": "f083f20a-76f6-4b7a-ad65-b1655069d886",
   "metadata": {},
   "outputs": [],
   "source": [
    "nonce_tokens = [f' [NEW_TOKEN{i}]' for i in range(20)]"
   ]
  },
  {
   "cell_type": "code",
   "execution_count": 19,
   "id": "323219e0-988e-4b70-a8ff-fe85eabbe9fa",
   "metadata": {},
   "outputs": [],
   "source": [
    "def expand_tokenizer(model, nonce_tokens):\n",
    "    model.tokenizer.add_tokens(nonce_tokens)\n",
    "    original_num_embeddings, embedding_dim = model.embed.W_E.shape\n",
    "    new_num_embeddings = original_num_embeddings + len(nonce_tokens)\n",
    "    \n",
    "    new_embeddings = torch.nn.Parameter(torch.empty(new_num_embeddings, embedding_dim).to(device))\n",
    "    with torch.no_grad():\n",
    "        new_embeddings[:original_num_embeddings] = model.embed.W_E\n",
    "    \n",
    "        initializer_range = model.cfg.initializer_range\n",
    "        print(f\"Initializer range: {initializer_range}\")\n",
    "    \n",
    "        torch.nn.init.normal_(\n",
    "            new_embeddings[original_num_embeddings:],  # Only initialize new embeddings\n",
    "            mean=0.0,\n",
    "            std=initializer_range\n",
    "        )\n",
    "    \n",
    "    model.embed.W_E = new_embeddings"
   ]
  },
  {
   "cell_type": "code",
   "execution_count": 10,
   "id": "15e5533c-6fb9-4cf1-8d59-a1ff3e8e63fd",
   "metadata": {},
   "outputs": [],
   "source": [
    "import os\n",
    "import json\n",
    "import pandas as pd\n",
    "import re\n",
    "\n",
    "def get_df(real_model_ar_path):\n",
    "    data_list = []\n",
    "    \n",
    "    dir_pattern = re.compile(r'^(.*)-step=(\\d+)-num_ex=(\\d+)$')\n",
    "    \n",
    "    for dir_name in os.listdir(real_model_ar_path):\n",
    "        dir_path = os.path.join(real_model_ar_path, dir_name)\n",
    "        if os.path.isdir(dir_path):\n",
    "            match = dir_pattern.match(dir_name)\n",
    "            if match:\n",
    "                model_name, step_str, num_ex_str = match.groups()\n",
    "                step = int(step_str)\n",
    "                num_ex = int(num_ex_str)\n",
    "                json_file_path = os.path.join(dir_path, 'model_step_acc.json')\n",
    "                if os.path.isfile(json_file_path):\n",
    "                    with open(json_file_path, 'r') as json_file:\n",
    "                        json_data = json.load(json_file)\n",
    "                        record = {\n",
    "                            'model': model_name,\n",
    "                            'step': step,\n",
    "                            'num_ex': num_ex,\n",
    "                        }\n",
    "                        record.update(json_data)\n",
    "                        data_list.append(record)\n",
    "                else:\n",
    "                    print(f\"Warning: {json_file_path} does not exist.\")\n",
    "            else:\n",
    "                print(f\"Warning: Directory name '{dir_name}' does not match the expected pattern.\")\n",
    "    \n",
    "    df = pd.DataFrame(data_list)\n",
    "    return df\n",
    "\n",
    "df1 = get_df('../../outputs/real_model_ar/trial1')\n",
    "df2 = get_df('../../outputs/real_model_ar/trial2')\n",
    "df3 = get_df('../../outputs/real_model_ar/trial3')\n",
    "# df5 = get_df('../../outputs/real_model_ar/trial5')\n"
   ]
  },
  {
   "cell_type": "code",
   "execution_count": 11,
   "id": "4f513455-1b07-45f0-bf6f-d013aca11dde",
   "metadata": {},
   "outputs": [],
   "source": [
    "df_vales = pd.concat([df1, df2, df3]).groupby(['step'])[['clean', 'nonce']].mean()\n",
    "# df_vales = df5"
   ]
  },
  {
   "cell_type": "code",
   "execution_count": 13,
   "id": "62a00f99-28de-4109-bb4f-82efdf8b1c86",
   "metadata": {},
   "outputs": [
    {
     "data": {
      "image/png": "[encoded data removed]",
      "text/plain": [
       "<Figure size 1300x600 with 1 Axes>"
      ]
     },
     "metadata": {},
     "output_type": "display_data"
    }
   ],
   "source": [
    "fig, ax = plt.subplots(figsize=(13, 6))\n",
    "sns.lineplot(data=df_vales.sort_values(by='step'), x='step', y='clean', label='Baseline', alpha=0.5)\n",
    "sns.lineplot(data=df_vales.sort_values(by='step'), x='step', y='nonce', label='Unseen', alpha=0.8)\n",
    "ax.legend(fontsize=14)\n",
    "ax.set_title('Pythia Syllogisms Task - Structural ICL is Transient', fontsize=16)\n",
    "ax.set_ylabel('Accuracy', fontsize=14)\n",
    "ax.set_xlabel('Step', fontsize=14)\n",
    "\n",
    "plt.show()"
   ]
  },
  {
   "cell_type": "code",
   "execution_count": 6,
   "id": "c64f3a05-ebc6-4df1-b616-85a235baab90",
   "metadata": {},
   "outputs": [],
   "source": [
    "MODEL = 'EleutherAI/Pythia-1.4B'"
   ]
  },
  {
   "cell_type": "code",
   "execution_count": 23,
   "id": "c099d7eb-9420-4ed8-b64c-ba96364cbb0e",
   "metadata": {},
   "outputs": [
    {
     "name": "stderr",
     "output_type": "stream",
     "text": [
      "WARNING:root:Pythia models on HF were updated on 4/3/23! add '-v0' to model name to access the old models.\n",
      "Using pad_token, but it is not set yet.\n"
     ]
    },
    {
     "name": "stdout",
     "output_type": "stream",
     "text": [
      "Loaded pretrained model EleutherAI/Pythia-1.4B into HookedTransformer\n"
     ]
    }
   ],
   "source": [
    "model = HookedTransformer.from_pretrained(MODEL, checkpoint_value=26000, device=device)"
   ]
  },
  {
   "cell_type": "code",
   "execution_count": 24,
   "id": "b3b8ace1-f120-4191-b01d-308ec1fac8e9",
   "metadata": {},
   "outputs": [
    {
     "name": "stdout",
     "output_type": "stream",
     "text": [
      "Initializer range: 0.017677669529663688\n"
     ]
    }
   ],
   "source": [
    "expand_tokenizer(model, nonce_tokens)"
   ]
  },
  {
   "cell_type": "code",
   "execution_count": 25,
   "id": "7b469702-dafb-4c12-9de2-d17965ef9e6c",
   "metadata": {},
   "outputs": [
    {
     "data": {
      "text/plain": [
       "[50283]"
      ]
     },
     "execution_count": 25,
     "metadata": {},
     "output_type": "execute_result"
    }
   ],
   "source": [
    "model.tokenizer.encode(random.choice([f' [NEW_TOKEN{i}]' for i in range(20)]))"
   ]
  },
  {
   "cell_type": "code",
   "execution_count": null,
   "id": "7073b396-0d20-49d4-90b1-9cbe1c3740f1",
   "metadata": {},
   "outputs": [],
   "source": [
    "clean_acc = behavioral_analysis(\n",
    "        300, model, vocabulary, \"clean_x\", \"clean_y\", \"wrong_y\", device\n",
    "    ).item()"
   ]
  },
  {
   "cell_type": "code",
   "execution_count": null,
   "id": "40d98b0a-235d-4066-ba28-34526ca79ecb",
   "metadata": {},
   "outputs": [],
   "source": [
    "clean_acc = behavioral_analysis(\n",
    "        300, model, vocabulary, \"clean_x\", \"clean_y\", \"wrong_y\", device, nonce=True\n",
    "    ).item()"
   ]
  },
  {
   "cell_type": "markdown",
   "id": "4e8c6707-4857-4a5a-8f46-3340fec2138a",
   "metadata": {},
   "source": [
    "# GPT-2 Large Training (See if we can increase the accuracy of this)"
   ]
  },
  {
   "cell_type": "code",
   "execution_count": 14,
   "id": "481c8d1d-d4a0-4398-a9be-b67934eacf96",
   "metadata": {},
   "outputs": [],
   "source": [
    "def logits_to_probability(tokenizer, logits, correct_answer):\n",
    "    \"\"\"Compute the probability of the correct answer\"\"\"\n",
    "    correct_idx = tokenizer.encode(correct_answer)[0]\n",
    "    \n",
    "    logits_last = logits[0, -1, :]  # Shape: [vocab_size]\n",
    "    probs = torch.softmax(logits_last, dim=-1)  # Shape: [vocab_size]\n",
    "    prob_correct = probs[correct_idx]\n",
    "    return prob_correct.item()"
   ]
  },
  {
   "cell_type": "code",
   "execution_count": 15,
   "id": "00c68118-51c0-4084-ab16-936c582107c3",
   "metadata": {},
   "outputs": [],
   "source": [
    "def generate_abstract_example_t(vocab_set, idx_1, idx_2, idx_3, nonce=False):\n",
    "    \"\"\"Helper function to generate abstract example\"\"\"\n",
    "    item_1 = random.choice([f' [NEW_TOKEN{i}]' for i in range(50)]) if nonce else vocab_set[idx_1]\n",
    "    item_2 = vocab_set[idx_2]\n",
    "    item_3 = vocab_set[idx_3]\n",
    "    \n",
    "    prompt = (\n",
    "        f\"All{item_1} are{item_2}. \"\n",
    "        + f\"All{item_2} are{item_3}. \"\n",
    "        + f\"Therefore, all{item_1} are\"\n",
    "    )\n",
    "    label = item_3\n",
    "    wrong_label = item_2\n",
    "    # print(prompt, label, wrong_label)\n",
    "    return prompt, label, wrong_label"
   ]
  },
  {
   "cell_type": "code",
   "execution_count": 16,
   "id": "f3f1f5d5-2246-4965-9916-0521a6cdc971",
   "metadata": {},
   "outputs": [],
   "source": [
    "def logits_to_logit_diff_t(tokenizer, logits, correct_answer, incorrect_answer):\n",
    "    \"\"\"Compute logit difference\"\"\"\n",
    "    correct_idx = tokenizer.encode(correct_answer)[0]\n",
    "    incorrect_idx = tokenizer.encode(incorrect_answer)[0]\n",
    "    # print(logits[0, -1, correct_idx], logits[0, -1, incorrect_idx])\n",
    "    # print(logits_to_probability(tokenizer, logits, correct_answer), logits_to_probability(tokenizer, logits, incorrect_answer))\n",
    "    # print(logits[0, -1].argmax().item() == correct_idx, logits[0, -1].argmax().item() == incorrect_idx)\n",
    "    # print(logits[0, -1].argmax().item(), correct_idx, incorrect_idx)\n",
    "    return logits[0, -1, correct_idx] - logits[0, -1, incorrect_idx]"
   ]
  },
  {
   "cell_type": "code",
   "execution_count": 17,
   "id": "c8879201-8a87-4d46-8274-4e26e071b1fa",
   "metadata": {},
   "outputs": [],
   "source": [
    "data_size=300"
   ]
  },
  {
   "cell_type": "code",
   "execution_count": 18,
   "id": "26962337-5025-448c-8e02-b29c74fb8e34",
   "metadata": {},
   "outputs": [],
   "source": [
    "data_baseline = {\n",
    "\"clean_x\": [],\n",
    "\"clean_y\": [],\n",
    "\"wrong_y\": [],\n",
    "}\n",
    "for _ in range(data_size):\n",
    "    vocab_set = np.random.choice(vocabulary, 8, replace=False)\n",
    "    vocab_set_1 = vocab_set[:4]\n",
    "    clean_x, clean_y, wrong_y = generate_abstract_example_t(vocab_set_1, 0, 1, 2, nonce=False)\n",
    "    data_baseline[\"clean_x\"].append(clean_x)\n",
    "    data_baseline[\"clean_y\"].append(clean_y)\n",
    "    data_baseline[\"wrong_y\"].append(wrong_y)\n",
    "\n",
    "data_nonce = {\n",
    "\"clean_x\": [],\n",
    "\"clean_y\": [],\n",
    "\"wrong_y\": [],\n",
    "}\n",
    "for _ in range(data_size):\n",
    "    vocab_set = np.random.choice(vocabulary, 8, replace=False)\n",
    "    vocab_set_1 = vocab_set[:4]\n",
    "    clean_x, clean_y, wrong_y = generate_abstract_example_t(vocab_set_1, 0, 1, 2, nonce=True)\n",
    "    data_nonce[\"clean_x\"].append(clean_x)\n",
    "    data_nonce[\"clean_y\"].append(clean_y)\n",
    "    data_nonce[\"wrong_y\"].append(wrong_y)"
   ]
  },
  {
   "cell_type": "code",
   "execution_count": 19,
   "id": "6a998e1b-a1a1-4a8e-bd26-3b8533511659",
   "metadata": {},
   "outputs": [],
   "source": [
    "def behavioral_analysis_t(\n",
    "    data_size, model, tokenizer, vocabulary, q_type, correct_label, incorrect_label, device, nonce=False, verbose=True\n",
    "):\n",
    "    \"\"\"Main function\"\"\"\n",
    "    # torch.set_grad_enabled(False)\n",
    "    if nonce:\n",
    "        data = data_nonce\n",
    "    else:\n",
    "        data = data_baseline\n",
    "    accuracy = []\n",
    "    total_samples = len(data[\"clean_x\"])\n",
    "    for i in range(total_samples):\n",
    "\n",
    "        if i % 50 == 0 and verbose:\n",
    "            print(f\"Progress: {round(i/total_samples, 3)}\")\n",
    "            \n",
    "        clean_prompt = data[q_type][i]\n",
    "        clean_label = data[correct_label][i]\n",
    "        cf_label = data[incorrect_label][i]\n",
    "        clean_tokens = tokenizer.encode(clean_prompt, return_tensors=\"pt\").to(model.device)\n",
    "        # print(clean_tokens)\n",
    "        with torch.no_grad():\n",
    "            logits = model(clean_tokens).logits\n",
    "        # print(logits.logits.shape)\n",
    "        \n",
    "        accuracy.append(logits_to_logit_diff_t(tokenizer, logits, clean_label, cf_label) > 0)\n",
    "    if verbose:\n",
    "        print(f\"Model Accuracy: {torch.mean(torch.Tensor(accuracy))}\")\n",
    "    return torch.mean(torch.Tensor(accuracy))\n"
   ]
  },
  {
   "cell_type": "code",
   "execution_count": 20,
   "id": "d738d518-76ec-485e-a81e-cf16af36770e",
   "metadata": {},
   "outputs": [],
   "source": [
    "device=\"cuda\""
   ]
  },
  {
   "cell_type": "code",
   "execution_count": 21,
   "id": "853ec7c2-a256-41db-8d8c-4faa1e169e01",
   "metadata": {},
   "outputs": [],
   "source": [
    "import os\n",
    "os.environ[\"WANDB_SILENT\"] = \"true\"\n",
    "os.environ[\"WANDB_CONSOLE\"] = \"off\"\n",
    "os.environ[\"WANDB_MODE\"] = \"disabled\""
   ]
  },
  {
   "cell_type": "code",
   "execution_count": 22,
   "id": "6fb372a0-ecfe-4b90-a7e9-e86430efca9f",
   "metadata": {},
   "outputs": [],
   "source": [
    "os.makedirs('../../outputs/gpt2-wikitext', exist_ok=True)"
   ]
  },
  {
   "cell_type": "code",
   "execution_count": 23,
   "id": "5f0fe2fa-6370-4517-8f67-0d674ec95610",
   "metadata": {},
   "outputs": [],
   "source": [
    "from transformers import GPT2LMHeadModel, GPT2Tokenizer\n",
    "import torch\n",
    "import torch.nn as nn\n",
    "\n",
    "model_name = \"gpt2-large\"\n",
    "model = GPT2LMHeadModel.from_pretrained(model_name).to(device)\n",
    "tokenizer = GPT2Tokenizer.from_pretrained(model_name)"
   ]
  },
  {
   "cell_type": "code",
   "execution_count": 24,
   "id": "49ef665c-4211-4efd-ab86-be6b284c94e2",
   "metadata": {},
   "outputs": [],
   "source": [
    "assert model.config.tie_word_embeddings, \"The model does not have tied embeddings.\""
   ]
  },
  {
   "cell_type": "code",
   "execution_count": 25,
   "id": "eea9e9db-3f69-4527-861e-cf5f7502191e",
   "metadata": {},
   "outputs": [],
   "source": [
    "# old_embeddings = model.transformer.wte\n",
    "# vocab_size, embedding_dim = old_embeddings.weight.shape"
   ]
  },
  {
   "cell_type": "code",
   "execution_count": 26,
   "id": "11f46549-496b-45b1-bc8c-886b4740baa4",
   "metadata": {},
   "outputs": [
    {
     "name": "stderr",
     "output_type": "stream",
     "text": [
      "The new embeddings will be initialized from a multivariate normal distribution that has old embeddings' mean and covariance. As described in this article: https://nlp.stanford.edu/~johnhew/vocab-expansion.html. To disable this, use `mean_resizing=False`\n"
     ]
    },
    {
     "name": "stdout",
     "output_type": "stream",
     "text": [
      "Updated vocab size: 50307, Embedding matrix size: torch.Size([50320, 1280])\n"
     ]
    }
   ],
   "source": [
    "# new_vocab_size = vocab_size + 20\n",
    "# new_embeddings = nn.Embedding(new_vocab_size, embedding_dim).to(device)\n",
    "# with torch.no_grad():\n",
    "#     new_embeddings.weight[:vocab_size] = old_embeddings.weight\n",
    "# model.transformer.wte = new_embeddings\n",
    "# model.lm_head.weight = model.transformer.wte.weight\n",
    "# Tie the unembedding layer (output logits layer) to the new embedding matrix\n",
    "\n",
    "tokenizer.add_tokens([f\" [NEW_TOKEN{i}]\" for i in range(50)])\n",
    "model.resize_token_embeddings(len(tokenizer), pad_to_multiple_of=16)\n",
    "print(f\"Updated vocab size: {len(tokenizer)}, Embedding matrix size: {model.transformer.wte.weight.shape}\")"
   ]
  },
  {
   "cell_type": "code",
   "execution_count": 27,
   "id": "a0ec67f2-78f9-464d-bc16-b92e76896459",
   "metadata": {},
   "outputs": [],
   "source": [
    "tokenizer.pad_token = tokenizer.eos_token"
   ]
  },
  {
   "cell_type": "code",
   "execution_count": 28,
   "id": "8564e038-8974-4372-9af5-50fc8d0b002b",
   "metadata": {},
   "outputs": [
    {
     "name": "stdout",
     "output_type": "stream",
     "text": [
      "Progress: 0.0\n",
      "Progress: 0.167\n",
      "Progress: 0.333\n",
      "Progress: 0.5\n",
      "Progress: 0.667\n",
      "Progress: 0.833\n",
      "Model Accuracy: 0.9333333373069763\n"
     ]
    }
   ],
   "source": [
    "clean_acc = behavioral_analysis_t(\n",
    "        300, model, tokenizer, vocabulary, \"clean_x\", \"clean_y\", \"wrong_y\", device, nonce=False\n",
    "    ).item()"
   ]
  },
  {
   "cell_type": "code",
   "execution_count": 29,
   "id": "e0717709-eff2-419e-a352-ed0c25b6e8ec",
   "metadata": {},
   "outputs": [
    {
     "data": {
      "text/plain": [
       "tensor([[50258]], device='cuda:0')"
      ]
     },
     "execution_count": 29,
     "metadata": {},
     "output_type": "execute_result"
    }
   ],
   "source": [
    "tokenizer.encode(' [NEW_TOKEN1]', return_tensors=\"pt\").to(device)"
   ]
  },
  {
   "cell_type": "code",
   "execution_count": 30,
   "id": "5c6f47e6-9f19-4ec8-8bbc-5fc54745e3cc",
   "metadata": {},
   "outputs": [
    {
     "name": "stdout",
     "output_type": "stream",
     "text": [
      "Progress: 0.0\n",
      "Progress: 0.167\n",
      "Progress: 0.333\n",
      "Progress: 0.5\n",
      "Progress: 0.667\n",
      "Progress: 0.833\n",
      "Model Accuracy: 0.029999999329447746\n"
     ]
    }
   ],
   "source": [
    "clean_acc = behavioral_analysis_t(\n",
    "        300, model, tokenizer, vocabulary, \"clean_x\", \"clean_y\", \"wrong_y\", device, nonce=True\n",
    "    ).item()"
   ]
  },
  {
   "cell_type": "markdown",
   "id": "18ea2903-323e-4ea0-8d52-44f00460d5e2",
   "metadata": {},
   "source": [
    "----"
   ]
  },
  {
   "cell_type": "markdown",
   "id": "56099729-342f-4eb7-840a-2125bbd6a84d",
   "metadata": {},
   "source": [
    "Put a reference to the generation task - p hard to do this for temporary forgetting\n",
    "\n",
    "Can consider try doing this for a small GPT model – (completely random, their eval); try fine-tuning w/ embedding dropout and then eval.\n",
    "[X, X1, X2, X1, X3] - softer version; \n",
    "\n",
    "\n",
    "Copy of the initial embedding matrix\n",
    "1. Embedding matrix: \n",
    "2. X1-> random vector\n",
    "3. X2-> X2_2\n",
    "4. After backprop\n",
    "5. Replace random vector -> X1\n",
    "6. Reset embedding matrix -> back to before FT\n",
    "\n",
    "\n",
    "– A is B. B is C. Therefore A is _.\n",
    "– Wikitext few thousand sentences - replace some of the tokens w/ random (regular Next Word Prediction objective)\n",
    "– then go back and test on the syllogism\n"
   ]
  },
  {
   "cell_type": "markdown",
   "id": "b6a26bb8-0b63-4af5-8b0c-54b11a919259",
   "metadata": {},
   "source": [
    "----"
   ]
  },
  {
   "cell_type": "code",
   "execution_count": 31,
   "id": "f562594c-3517-493d-b09b-e6fb8441af2a",
   "metadata": {},
   "outputs": [],
   "source": [
    "from transformers import DataCollatorForLanguageModeling"
   ]
  },
  {
   "cell_type": "code",
   "execution_count": 32,
   "id": "ff3ccbb4-516b-4572-8cfb-a85ca6dae6cf",
   "metadata": {},
   "outputs": [
    {
     "data": {
      "application/vnd.jupyter.widget-view+json": {
       "model_id": "3231ad3fa34b425da0ffc80093635d81",
       "version_major": 2,
       "version_minor": 0
      },
      "text/plain": [
       "Map:   0%|          | 0/2891 [00:00<?, ? examples/s]"
      ]
     },
     "metadata": {},
     "output_type": "display_data"
    },
    {
     "data": {
      "application/vnd.jupyter.widget-view+json": {
       "model_id": "8fd91ea8ed7e4de1bdd19d83aba9c885",
       "version_major": 2,
       "version_minor": 0
      },
      "text/plain": [
       "Map:   0%|          | 0/23767 [00:00<?, ? examples/s]"
      ]
     },
     "metadata": {},
     "output_type": "display_data"
    },
    {
     "data": {
      "application/vnd.jupyter.widget-view+json": {
       "model_id": "b1178ffe246847389e91df3a5c8c7ea0",
       "version_major": 2,
       "version_minor": 0
      },
      "text/plain": [
       "Map:   0%|          | 0/2461 [00:00<?, ? examples/s]"
      ]
     },
     "metadata": {},
     "output_type": "display_data"
    },
    {
     "data": {
      "application/vnd.jupyter.widget-view+json": {
       "model_id": "d6c2916c9cfb46e6a20a3c1075c14f23",
       "version_major": 2,
       "version_minor": 0
      },
      "text/plain": [
       "Filter:   0%|          | 0/2891 [00:00<?, ? examples/s]"
      ]
     },
     "metadata": {},
     "output_type": "display_data"
    },
    {
     "data": {
      "application/vnd.jupyter.widget-view+json": {
       "model_id": "db3dadddcb334fc3a38276daa6adc484",
       "version_major": 2,
       "version_minor": 0
      },
      "text/plain": [
       "Filter:   0%|          | 0/23767 [00:00<?, ? examples/s]"
      ]
     },
     "metadata": {},
     "output_type": "display_data"
    },
    {
     "data": {
      "application/vnd.jupyter.widget-view+json": {
       "model_id": "678bf02da5a04c3cac2d89efb2069061",
       "version_major": 2,
       "version_minor": 0
      },
      "text/plain": [
       "Filter:   0%|          | 0/2461 [00:00<?, ? examples/s]"
      ]
     },
     "metadata": {},
     "output_type": "display_data"
    }
   ],
   "source": [
    "from transformers import AutoTokenizer, AutoModelForCausalLM, Trainer, TrainingArguments\n",
    "from datasets import load_dataset\n",
    "\n",
    "dataset = load_dataset('wikitext', 'wikitext-2-raw-v1')\n",
    "def filter_empty_examples(example):\n",
    "    return example['text'].strip() != ''\n",
    "    \n",
    "filtered_dataset = dataset.filter(filter_empty_examples)\n",
    "\n",
    "def tokenize_function(examples):\n",
    "    return tokenizer(examples['text'], truncation=True, max_length=512)\n",
    "    \n",
    "tokenized_datasets = filtered_dataset.map(\n",
    "    tokenize_function,\n",
    "    batched=True,\n",
    "    remove_columns=[\"text\"],\n",
    ")\n",
    "\n",
    "def filter_short_examples(example):\n",
    "    return len(example['input_ids']) > 0\n",
    "    \n",
    "tokenized_datasets = tokenized_datasets.filter(filter_short_examples)\n",
    "data_collator = DataCollatorForLanguageModeling(\n",
    "    tokenizer=tokenizer,\n",
    "    mlm=False,\n",
    ")\n",
    "\n",
    "train_loader = DataLoader(\n",
    "    tokenized_datasets['train'],\n",
    "    batch_size=2,  # Adjust batch size as needed\n",
    "    shuffle=False,\n",
    "    collate_fn=data_collator,\n",
    ")"
   ]
  },
  {
   "cell_type": "code",
   "execution_count": 33,
   "id": "41faeea1-f871-4172-9c09-d22dd7af2042",
   "metadata": {},
   "outputs": [],
   "source": [
    "import torch.optim as optim\n",
    "from tqdm.notebook import tqdm"
   ]
  },
  {
   "cell_type": "code",
   "execution_count": 34,
   "id": "dadd5c49-0234-46f7-95da-bf8424cc6919",
   "metadata": {},
   "outputs": [],
   "source": [
    "baseline_acc = behavioral_analysis_t(\n",
    "        300, model, tokenizer, vocabulary, \"clean_x\", \"clean_y\", \"wrong_y\", device, nonce=False, verbose=False\n",
    "    ).item()\n",
    "nonce_acc = behavioral_analysis_t(\n",
    "        300, model, tokenizer, vocabulary, \"clean_x\", \"clean_y\", \"wrong_y\", device, nonce=True, verbose=False\n",
    "    ).item()"
   ]
  },
  {
   "cell_type": "code",
   "execution_count": 35,
   "id": "80f44a37-c204-4609-9d87-b970880f50b9",
   "metadata": {},
   "outputs": [
    {
     "data": {
      "text/plain": [
       "(0.9333333373069763, 0.029999999329447746)"
      ]
     },
     "execution_count": 35,
     "metadata": {},
     "output_type": "execute_result"
    }
   ],
   "source": [
    "baseline_acc, nonce_acc"
   ]
  },
  {
   "cell_type": "code",
   "execution_count": 43,
   "id": "232954c4-5403-496b-867c-c7a16190f3c1",
   "metadata": {},
   "outputs": [
    {
     "data": {
      "text/plain": [
       "GPT2LMHeadModel(\n",
       "  (transformer): GPT2Model(\n",
       "    (wte): Embedding(50320, 1280)\n",
       "    (wpe): Embedding(1024, 1280)\n",
       "    (drop): Dropout(p=0.1, inplace=False)\n",
       "    (h): ModuleList(\n",
       "      (0-35): 36 x GPT2Block(\n",
       "        (ln_1): LayerNorm((1280,), eps=1e-05, elementwise_affine=True)\n",
       "        (attn): GPT2SdpaAttention(\n",
       "          (c_attn): Conv1D(nf=3840, nx=1280)\n",
       "          (c_proj): Conv1D(nf=1280, nx=1280)\n",
       "          (attn_dropout): Dropout(p=0.1, inplace=False)\n",
       "          (resid_dropout): Dropout(p=0.1, inplace=False)\n",
       "        )\n",
       "        (ln_2): LayerNorm((1280,), eps=1e-05, elementwise_affine=True)\n",
       "        (mlp): GPT2MLP(\n",
       "          (c_fc): Conv1D(nf=5120, nx=1280)\n",
       "          (c_proj): Conv1D(nf=1280, nx=5120)\n",
       "          (act): NewGELUActivation()\n",
       "          (dropout): Dropout(p=0.1, inplace=False)\n",
       "        )\n",
       "      )\n",
       "    )\n",
       "    (ln_f): LayerNorm((1280,), eps=1e-05, elementwise_affine=True)\n",
       "  )\n",
       "  (lm_head): Linear(in_features=1280, out_features=50320, bias=False)\n",
       ")"
      ]
     },
     "execution_count": 43,
     "metadata": {},
     "output_type": "execute_result"
    }
   ],
   "source": [
    "model.eval()"
   ]
  },
  {
   "cell_type": "code",
   "execution_count": 44,
   "id": "0dfb3da8-e5ec-42b6-959a-f950625ff6d8",
   "metadata": {},
   "outputs": [],
   "source": [
    "WARMUP_STEPS = 50\n",
    "total_steps = len(train_loader)\n",
    "optimizer = optim.AdamW(model.parameters(), lr=1e-5)\n",
    "scheduler = get_linear_schedule_with_warmup(optimizer, num_warmup_steps=WARMUP_STEPS, num_training_steps=total_steps)\n",
    "\n",
    "num_epochs = 1  \n",
    "initializer_range = model.config.initializer_range"
   ]
  },
  {
   "cell_type": "code",
   "execution_count": 45,
   "id": "f20403a1-849e-4efe-8d29-923d8764541c",
   "metadata": {},
   "outputs": [],
   "source": [
    "baseline_acc = behavioral_analysis_t(\n",
    "        300, model, tokenizer, vocabulary, \"clean_x\", \"clean_y\", \"wrong_y\", device, nonce=False, verbose=False\n",
    "    ).item()\n",
    "nonce_acc = behavioral_analysis_t(\n",
    "        300, model, tokenizer, vocabulary, \"clean_x\", \"clean_y\", \"wrong_y\", device, nonce=True, verbose=False\n",
    "    ).item()"
   ]
  },
  {
   "cell_type": "code",
   "execution_count": 46,
   "id": "e7ff9ceb-5893-4489-a21b-f8532568050f",
   "metadata": {},
   "outputs": [
    {
     "data": {
      "text/plain": [
       "(0.9333333373069763, 0.029999999329447746)"
      ]
     },
     "execution_count": 46,
     "metadata": {},
     "output_type": "execute_result"
    }
   ],
   "source": [
    "baseline_acc, nonce_acc"
   ]
  },
  {
   "cell_type": "code",
   "execution_count": 47,
   "id": "7e57d40d-f1eb-42fe-b5dc-49734ce8c896",
   "metadata": {},
   "outputs": [
    {
     "data": {
      "application/vnd.jupyter.widget-view+json": {
       "model_id": "13d832770f3944c8b94897e3265b73b9",
       "version_major": 2,
       "version_minor": 0
      },
      "text/plain": [
       "  0%|          | 0/11884 [00:00<?, ?it/s]"
      ]
     },
     "metadata": {},
     "output_type": "display_data"
    },
    {
     "name": "stdout",
     "output_type": "stream",
     "text": [
      "Step 0, Baseline Acc: 0.9333333373069763, Nonce Acc: 0.029999999329447746\n",
      "Step 1, Baseline Acc: 0.9333333373069763, Nonce Acc: 0.029999999329447746\n",
      "Step 2, Baseline Acc: 0.9333333373069763, Nonce Acc: 0.029999999329447746\n",
      "Step 3, Baseline Acc: 0.9333333373069763, Nonce Acc: 0.029999999329447746\n",
      "Step 4, Baseline Acc: 0.9333333373069763, Nonce Acc: 0.03333333507180214\n",
      "Step 5, Baseline Acc: 0.9333333373069763, Nonce Acc: 0.036666665226221085\n",
      "Step 6, Baseline Acc: 0.9333333373069763, Nonce Acc: 0.046666666865348816\n",
      "Step 7, Baseline Acc: 0.9333333373069763, Nonce Acc: 0.046666666865348816\n",
      "Step 8, Baseline Acc: 0.9333333373069763, Nonce Acc: 0.046666666865348816\n",
      "Step 9, Baseline Acc: 0.9333333373069763, Nonce Acc: 0.046666666865348816\n",
      "Step 10, Baseline Acc: 0.9333333373069763, Nonce Acc: 0.046666666865348816\n",
      "Step 11, Baseline Acc: 0.9333333373069763, Nonce Acc: 0.046666666865348816\n",
      "Step 12, Baseline Acc: 0.9333333373069763, Nonce Acc: 0.046666666865348816\n",
      "Step 13, Baseline Acc: 0.9333333373069763, Nonce Acc: 0.046666666865348816\n",
      "Step 14, Baseline Acc: 0.9333333373069763, Nonce Acc: 0.046666666865348816\n",
      "Step 15, Baseline Acc: 0.9333333373069763, Nonce Acc: 0.046666666865348816\n",
      "Step 16, Baseline Acc: 0.9333333373069763, Nonce Acc: 0.046666666865348816\n",
      "Step 17, Baseline Acc: 0.9333333373069763, Nonce Acc: 0.05000000074505806\n",
      "Step 18, Baseline Acc: 0.9333333373069763, Nonce Acc: 0.0533333346247673\n",
      "Step 19, Baseline Acc: 0.9333333373069763, Nonce Acc: 0.05666666850447655\n",
      "Step 20, Baseline Acc: 0.9300000071525574, Nonce Acc: 0.05666666850447655\n",
      "Step 21, Baseline Acc: 0.9266666769981384, Nonce Acc: 0.05666666850447655\n",
      "Step 22, Baseline Acc: 0.9266666769981384, Nonce Acc: 0.06333333253860474\n",
      "Step 23, Baseline Acc: 0.9266666769981384, Nonce Acc: 0.05999999865889549\n",
      "Step 24, Baseline Acc: 0.9266666769981384, Nonce Acc: 0.06333333253860474\n",
      "Step 25, Baseline Acc: 0.9266666769981384, Nonce Acc: 0.06333333253860474\n",
      "Step 26, Baseline Acc: 0.9266666769981384, Nonce Acc: 0.06333333253860474\n",
      "Step 27, Baseline Acc: 0.9266666769981384, Nonce Acc: 0.05999999865889549\n",
      "Step 28, Baseline Acc: 0.9266666769981384, Nonce Acc: 0.06333333253860474\n",
      "Step 29, Baseline Acc: 0.9266666769981384, Nonce Acc: 0.05999999865889549\n",
      "Step 30, Baseline Acc: 0.9266666769981384, Nonce Acc: 0.06333333253860474\n",
      "Step 31, Baseline Acc: 0.9300000071525574, Nonce Acc: 0.05999999865889549\n",
      "Step 32, Baseline Acc: 0.9300000071525574, Nonce Acc: 0.05666666850447655\n",
      "Step 33, Baseline Acc: 0.9300000071525574, Nonce Acc: 0.05666666850447655\n",
      "Step 34, Baseline Acc: 0.9333333373069763, Nonce Acc: 0.05666666850447655\n",
      "Step 35, Baseline Acc: 0.9333333373069763, Nonce Acc: 0.0533333346247673\n",
      "Step 36, Baseline Acc: 0.9333333373069763, Nonce Acc: 0.05000000074505806\n",
      "Step 37, Baseline Acc: 0.9333333373069763, Nonce Acc: 0.046666666865348816\n",
      "Step 38, Baseline Acc: 0.9366666674613953, Nonce Acc: 0.046666666865348816\n",
      "Step 39, Baseline Acc: 0.9366666674613953, Nonce Acc: 0.046666666865348816\n",
      "Step 40, Baseline Acc: 0.9366666674613953, Nonce Acc: 0.046666666865348816\n",
      "Step 41, Baseline Acc: 0.9300000071525574, Nonce Acc: 0.046666666865348816\n",
      "Step 42, Baseline Acc: 0.9333333373069763, Nonce Acc: 0.046666666865348816\n",
      "Step 43, Baseline Acc: 0.9333333373069763, Nonce Acc: 0.046666666865348816\n",
      "Step 44, Baseline Acc: 0.9300000071525574, Nonce Acc: 0.04333333298563957\n",
      "Step 45, Baseline Acc: 0.9233333468437195, Nonce Acc: 0.03333333507180214\n",
      "Step 46, Baseline Acc: 0.9233333468437195, Nonce Acc: 0.03333333507180214\n",
      "Step 47, Baseline Acc: 0.9233333468437195, Nonce Acc: 0.03333333507180214\n",
      "Step 48, Baseline Acc: 0.9233333468437195, Nonce Acc: 0.029999999329447746\n",
      "Step 49, Baseline Acc: 0.9233333468437195, Nonce Acc: 0.023333333432674408\n",
      "Step 100, Baseline Acc: 0.8533333539962769, Nonce Acc: 0.1599999964237213\n",
      "Step 200, Baseline Acc: 0.8633333444595337, Nonce Acc: 0.49000000953674316\n",
      "Step 300, Baseline Acc: 0.8299999833106995, Nonce Acc: 0.6933333277702332\n",
      "Step 400, Baseline Acc: 0.8333333134651184, Nonce Acc: 0.8566666841506958\n",
      "Step 500, Baseline Acc: 0.746666669845581, Nonce Acc: 0.6866666674613953\n",
      "Step 600, Baseline Acc: 0.7133333086967468, Nonce Acc: 0.6066666841506958\n",
      "Step 700, Baseline Acc: 0.7400000095367432, Nonce Acc: 0.6399999856948853\n",
      "Step 800, Baseline Acc: 0.8799999952316284, Nonce Acc: 0.9599999785423279\n",
      "Step 900, Baseline Acc: 0.8366666436195374, Nonce Acc: 0.8233333230018616\n",
      "Step 1000, Baseline Acc: 0.8600000143051147, Nonce Acc: 0.7666666507720947\n",
      "Step 1100, Baseline Acc: 0.9433333277702332, Nonce Acc: 0.8866666555404663\n",
      "Step 1200, Baseline Acc: 0.8333333134651184, Nonce Acc: 0.8333333134651184\n",
      "Step 1300, Baseline Acc: 0.6633333563804626, Nonce Acc: 0.70333331823349\n",
      "Step 1400, Baseline Acc: 0.7133333086967468, Nonce Acc: 0.5699999928474426\n",
      "Step 1500, Baseline Acc: 0.7799999713897705, Nonce Acc: 0.8700000047683716\n",
      "Step 1600, Baseline Acc: 0.9100000262260437, Nonce Acc: 0.6833333373069763\n",
      "Step 1700, Baseline Acc: 0.8666666746139526, Nonce Acc: 0.746666669845581\n",
      "Step 1800, Baseline Acc: 0.846666693687439, Nonce Acc: 0.8133333325386047\n",
      "Step 1900, Baseline Acc: 0.8766666650772095, Nonce Acc: 0.8866666555404663\n",
      "Step 2000, Baseline Acc: 0.9233333468437195, Nonce Acc: 0.9266666769981384\n"
     ]
    },
    {
     "ename": "KeyboardInterrupt",
     "evalue": "",
     "output_type": "error",
     "traceback": [
      "\u001b[0;31m---------------------------------------------------------------------------\u001b[0m",
      "\u001b[0;31mKeyboardInterrupt\u001b[0m                         Traceback (most recent call last)",
      "Cell \u001b[0;32mIn[47], line 6\u001b[0m\n\u001b[1;32m      4\u001b[0m \u001b[38;5;28;01mfor\u001b[39;00m i, batch \u001b[38;5;129;01min\u001b[39;00m \u001b[38;5;28menumerate\u001b[39m(tqdm(train_loader)):\n\u001b[1;32m      5\u001b[0m     model\u001b[38;5;241m.\u001b[39mtrain()\n\u001b[0;32m----> 6\u001b[0m     batch \u001b[38;5;241m=\u001b[39m {k: v\u001b[38;5;241m.\u001b[39mto(device) \u001b[38;5;28;01mfor\u001b[39;00m k, v \u001b[38;5;129;01min\u001b[39;00m batch\u001b[38;5;241m.\u001b[39mitems()}\n\u001b[1;32m      8\u001b[0m     original_embeddings \u001b[38;5;241m=\u001b[39m model\u001b[38;5;241m.\u001b[39mtransformer\u001b[38;5;241m.\u001b[39mwte\u001b[38;5;241m.\u001b[39mweight\u001b[38;5;241m.\u001b[39mdata\u001b[38;5;241m.\u001b[39mclone()\n\u001b[1;32m      9\u001b[0m     unique_tokens \u001b[38;5;241m=\u001b[39m torch\u001b[38;5;241m.\u001b[39munique(batch[\u001b[38;5;124m'\u001b[39m\u001b[38;5;124minput_ids\u001b[39m\u001b[38;5;124m'\u001b[39m])\n",
      "Cell \u001b[0;32mIn[47], line 6\u001b[0m, in \u001b[0;36m<dictcomp>\u001b[0;34m(.0)\u001b[0m\n\u001b[1;32m      4\u001b[0m \u001b[38;5;28;01mfor\u001b[39;00m i, batch \u001b[38;5;129;01min\u001b[39;00m \u001b[38;5;28menumerate\u001b[39m(tqdm(train_loader)):\n\u001b[1;32m      5\u001b[0m     model\u001b[38;5;241m.\u001b[39mtrain()\n\u001b[0;32m----> 6\u001b[0m     batch \u001b[38;5;241m=\u001b[39m {k: \u001b[43mv\u001b[49m\u001b[38;5;241;43m.\u001b[39;49m\u001b[43mto\u001b[49m\u001b[43m(\u001b[49m\u001b[43mdevice\u001b[49m\u001b[43m)\u001b[49m \u001b[38;5;28;01mfor\u001b[39;00m k, v \u001b[38;5;129;01min\u001b[39;00m batch\u001b[38;5;241m.\u001b[39mitems()}\n\u001b[1;32m      8\u001b[0m     original_embeddings \u001b[38;5;241m=\u001b[39m model\u001b[38;5;241m.\u001b[39mtransformer\u001b[38;5;241m.\u001b[39mwte\u001b[38;5;241m.\u001b[39mweight\u001b[38;5;241m.\u001b[39mdata\u001b[38;5;241m.\u001b[39mclone()\n\u001b[1;32m      9\u001b[0m     unique_tokens \u001b[38;5;241m=\u001b[39m torch\u001b[38;5;241m.\u001b[39munique(batch[\u001b[38;5;124m'\u001b[39m\u001b[38;5;124minput_ids\u001b[39m\u001b[38;5;124m'\u001b[39m])\n",
      "\u001b[0;31mKeyboardInterrupt\u001b[0m: "
     ]
    }
   ],
   "source": [
    "# Training loop\n",
    "metrics = {\"baseline_acc\": {}, \n",
    "          \"nonce_acc\": {}}\n",
    "for i, batch in enumerate(tqdm(train_loader)):\n",
    "    model.train()\n",
    "    batch = {k: v.to(device) for k, v in batch.items()}\n",
    "    \n",
    "    original_embeddings = model.transformer.wte.weight.data.clone()\n",
    "    unique_tokens = torch.unique(batch['input_ids'])\n",
    "    unique_tokens = unique_tokens[unique_tokens != tokenizer.pad_token_id]\n",
    "    \n",
    "    mask_prob = 0.1\n",
    "    mask = torch.rand(len(unique_tokens), device=device) < mask_prob\n",
    "    tokens_to_replace = unique_tokens[mask]\n",
    "\n",
    "    with torch.no_grad():\n",
    "        random_embeddings = torch.normal(\n",
    "            mean=0.0,\n",
    "            std=initializer_range,\n",
    "            size=(tokens_to_replace.size(0), model.transformer.wte.weight.shape[1]),\n",
    "            device=device,\n",
    "        )\n",
    "        model.transformer.wte.weight.data[tokens_to_replace] = random_embeddings\n",
    "    assert torch.all(model.transformer.wte.weight.data == model.lm_head.weight.data).item()\n",
    "    \n",
    "    \n",
    "    outputs = model(**batch)\n",
    "    loss = outputs.loss\n",
    "    \n",
    "    loss.backward()\n",
    "\n",
    "    with torch.no_grad():\n",
    "        model.transformer.wte.weight.data[tokens_to_replace] = original_embeddings[tokens_to_replace]\n",
    "    \n",
    "    assert torch.all(model.transformer.wte.weight.data == model.lm_head.weight.data).item()\n",
    "    assert torch.all(model.transformer.wte.weight.data == original_embeddings).item()\n",
    "\n",
    "    model.transformer.wte.weight.grad = None\n",
    "    \n",
    "    optimizer.step()\n",
    "    scheduler.step()\n",
    "    optimizer.zero_grad()\n",
    "    \n",
    "    \n",
    "    # baseline_acc = behavioral_analysis_t(\n",
    "    #     300, model, tokenizer, vocabulary, \"clean_x\", \"clean_y\", \"wrong_y\", device, nonce=False, verbose=False\n",
    "    # ).item()\n",
    "    # nonce_acc = behavioral_analysis_t(\n",
    "    #     300, model, tokenizer, vocabulary, \"clean_x\", \"clean_y\", \"wrong_y\", device, nonce=True, verbose=False\n",
    "    # ).item()\n",
    "\n",
    "    # print(i, baseline_acc, nonce_acc)\n",
    "\n",
    "\n",
    "    if i == 50 or i % 100 == 0:\n",
    "        model.eval()\n",
    "        baseline_acc = behavioral_analysis_t(\n",
    "            300, model, tokenizer, vocabulary, \"clean_x\", \"clean_y\", \"wrong_y\", device, nonce=False, verbose=False\n",
    "        ).item()\n",
    "        nonce_acc = behavioral_analysis_t(\n",
    "            300, model, tokenizer, vocabulary, \"clean_x\", \"clean_y\", \"wrong_y\", device, nonce=True, verbose=False\n",
    "        ).item()\n",
    "        metrics[\"baseline_acc\"][i] = baseline_acc\n",
    "        metrics[\"nonce_acc\"][i] = nonce_acc\n",
    "        print(f\"Step {i}, Baseline Acc: {baseline_acc}, Nonce Acc: {nonce_acc}\")\n",
    "        json.dump(metrics, open(os.path.join('../../outputs/gpt2-wikitext', \"model_step_acc_new.json\"), \"w\"))\n",
    "        \n",
    "    # if i % 1000 == 0:\n",
    "    #     json.dump(metrics, open(os.path.join('../../outputs/gpt2-wikitext', \"model_step_acc.json\"), \"w\"))\n",
    "            \n",
    "    "
   ]
  },
  {
   "cell_type": "code",
   "execution_count": 54,
   "id": "943d5ea9-836c-4fa9-ba47-dfd48d908290",
   "metadata": {},
   "outputs": [],
   "source": [
    "str_metrics = \"\"\"Step 0, Baseline Acc: 0.9333333373069763, Nonce Acc: 0.029999999329447746\n",
    "Step 1, Baseline Acc: 0.9333333373069763, Nonce Acc: 0.029999999329447746\n",
    "Step 2, Baseline Acc: 0.9333333373069763, Nonce Acc: 0.029999999329447746\n",
    "Step 3, Baseline Acc: 0.9333333373069763, Nonce Acc: 0.029999999329447746\n",
    "Step 4, Baseline Acc: 0.9333333373069763, Nonce Acc: 0.03333333507180214\n",
    "Step 5, Baseline Acc: 0.9333333373069763, Nonce Acc: 0.036666665226221085\n",
    "Step 6, Baseline Acc: 0.9333333373069763, Nonce Acc: 0.046666666865348816\n",
    "Step 7, Baseline Acc: 0.9333333373069763, Nonce Acc: 0.046666666865348816\n",
    "Step 8, Baseline Acc: 0.9333333373069763, Nonce Acc: 0.046666666865348816\n",
    "Step 9, Baseline Acc: 0.9333333373069763, Nonce Acc: 0.046666666865348816\n",
    "Step 10, Baseline Acc: 0.9333333373069763, Nonce Acc: 0.046666666865348816\n",
    "Step 11, Baseline Acc: 0.9333333373069763, Nonce Acc: 0.046666666865348816\n",
    "Step 12, Baseline Acc: 0.9333333373069763, Nonce Acc: 0.046666666865348816\n",
    "Step 13, Baseline Acc: 0.9333333373069763, Nonce Acc: 0.046666666865348816\n",
    "Step 14, Baseline Acc: 0.9333333373069763, Nonce Acc: 0.046666666865348816\n",
    "Step 15, Baseline Acc: 0.9333333373069763, Nonce Acc: 0.046666666865348816\n",
    "Step 16, Baseline Acc: 0.9333333373069763, Nonce Acc: 0.046666666865348816\n",
    "Step 17, Baseline Acc: 0.9333333373069763, Nonce Acc: 0.05000000074505806\n",
    "Step 18, Baseline Acc: 0.9333333373069763, Nonce Acc: 0.0533333346247673\n",
    "Step 19, Baseline Acc: 0.9333333373069763, Nonce Acc: 0.05666666850447655\n",
    "Step 20, Baseline Acc: 0.9300000071525574, Nonce Acc: 0.05666666850447655\n",
    "Step 21, Baseline Acc: 0.9266666769981384, Nonce Acc: 0.05666666850447655\n",
    "Step 22, Baseline Acc: 0.9266666769981384, Nonce Acc: 0.06333333253860474\n",
    "Step 23, Baseline Acc: 0.9266666769981384, Nonce Acc: 0.05999999865889549\n",
    "Step 24, Baseline Acc: 0.9266666769981384, Nonce Acc: 0.06333333253860474\n",
    "Step 25, Baseline Acc: 0.9266666769981384, Nonce Acc: 0.06333333253860474\n",
    "Step 26, Baseline Acc: 0.9266666769981384, Nonce Acc: 0.06333333253860474\n",
    "Step 27, Baseline Acc: 0.9266666769981384, Nonce Acc: 0.05999999865889549\n",
    "Step 28, Baseline Acc: 0.9266666769981384, Nonce Acc: 0.06333333253860474\n",
    "Step 29, Baseline Acc: 0.9266666769981384, Nonce Acc: 0.05999999865889549\n",
    "Step 30, Baseline Acc: 0.9266666769981384, Nonce Acc: 0.06333333253860474\n",
    "Step 31, Baseline Acc: 0.9300000071525574, Nonce Acc: 0.05999999865889549\n",
    "Step 32, Baseline Acc: 0.9300000071525574, Nonce Acc: 0.05666666850447655\n",
    "Step 33, Baseline Acc: 0.9300000071525574, Nonce Acc: 0.05666666850447655\n",
    "Step 34, Baseline Acc: 0.9333333373069763, Nonce Acc: 0.05666666850447655\n",
    "Step 35, Baseline Acc: 0.9333333373069763, Nonce Acc: 0.0533333346247673\n",
    "Step 36, Baseline Acc: 0.9333333373069763, Nonce Acc: 0.05000000074505806\n",
    "Step 37, Baseline Acc: 0.9333333373069763, Nonce Acc: 0.046666666865348816\n",
    "Step 38, Baseline Acc: 0.9366666674613953, Nonce Acc: 0.046666666865348816\n",
    "Step 39, Baseline Acc: 0.9366666674613953, Nonce Acc: 0.046666666865348816\n",
    "Step 40, Baseline Acc: 0.9366666674613953, Nonce Acc: 0.046666666865348816\n",
    "Step 41, Baseline Acc: 0.9300000071525574, Nonce Acc: 0.046666666865348816\n",
    "Step 42, Baseline Acc: 0.9333333373069763, Nonce Acc: 0.046666666865348816\n",
    "Step 43, Baseline Acc: 0.9333333373069763, Nonce Acc: 0.046666666865348816\n",
    "Step 44, Baseline Acc: 0.9300000071525574, Nonce Acc: 0.04333333298563957\n",
    "Step 45, Baseline Acc: 0.9233333468437195, Nonce Acc: 0.03333333507180214\n",
    "Step 46, Baseline Acc: 0.9233333468437195, Nonce Acc: 0.03333333507180214\n",
    "Step 47, Baseline Acc: 0.9233333468437195, Nonce Acc: 0.03333333507180214\n",
    "Step 48, Baseline Acc: 0.9233333468437195, Nonce Acc: 0.029999999329447746\n",
    "Step 49, Baseline Acc: 0.9233333468437195, Nonce Acc: 0.023333333432674408\n",
    "Step 100, Baseline Acc: 0.8533333539962769, Nonce Acc: 0.1599999964237213\n",
    "Step 200, Baseline Acc: 0.8633333444595337, Nonce Acc: 0.49000000953674316\n",
    "Step 300, Baseline Acc: 0.8299999833106995, Nonce Acc: 0.6933333277702332\n",
    "Step 400, Baseline Acc: 0.8333333134651184, Nonce Acc: 0.8566666841506958\n",
    "Step 500, Baseline Acc: 0.746666669845581, Nonce Acc: 0.6866666674613953\n",
    "Step 600, Baseline Acc: 0.7133333086967468, Nonce Acc: 0.6066666841506958\n",
    "Step 700, Baseline Acc: 0.7400000095367432, Nonce Acc: 0.6399999856948853\n",
    "Step 800, Baseline Acc: 0.8799999952316284, Nonce Acc: 0.9599999785423279\n",
    "Step 900, Baseline Acc: 0.8366666436195374, Nonce Acc: 0.8233333230018616\n",
    "Step 1000, Baseline Acc: 0.8600000143051147, Nonce Acc: 0.7666666507720947\n",
    "Step 1100, Baseline Acc: 0.9433333277702332, Nonce Acc: 0.8866666555404663\n",
    "Step 1200, Baseline Acc: 0.8333333134651184, Nonce Acc: 0.8333333134651184\n",
    "Step 1300, Baseline Acc: 0.6633333563804626, Nonce Acc: 0.70333331823349\n",
    "Step 1400, Baseline Acc: 0.7133333086967468, Nonce Acc: 0.5699999928474426\n",
    "Step 1500, Baseline Acc: 0.7799999713897705, Nonce Acc: 0.8700000047683716\n",
    "Step 1600, Baseline Acc: 0.9100000262260437, Nonce Acc: 0.6833333373069763\n",
    "Step 1700, Baseline Acc: 0.8666666746139526, Nonce Acc: 0.746666669845581\n",
    "Step 1800, Baseline Acc: 0.846666693687439, Nonce Acc: 0.8133333325386047\n",
    "Step 1900, Baseline Acc: 0.8766666650772095, Nonce Acc: 0.8866666555404663\n",
    "Step 2000, Baseline Acc: 0.9233333468437195, Nonce Acc: 0.9266666769981384\n",
    "\"\"\""
   ]
  },
  {
   "cell_type": "code",
   "execution_count": 57,
   "id": "fbeb42f8-d6dc-4acb-9d1d-9790cac8790b",
   "metadata": {},
   "outputs": [],
   "source": [
    "parsed_data = []\n",
    "for line in str_metrics.strip().split(\"\\n\"):\n",
    "    step_info = line.split(\", \")\n",
    "    step = int(step_info[0].split(\" \")[1])\n",
    "    baseline_acc = float(step_info[1].split(\": \")[1])\n",
    "    nonce_acc = float(step_info[2].split(\": \")[1])\n",
    "    parsed_data.append({\n",
    "        \"step\": step,\n",
    "        \"baseline_acc\": baseline_acc,\n",
    "        \"nonce_acc\": nonce_acc\n",
    "    })\n",
    "\n",
    "# Save the parsed data as a JSON file\n",
    "output_file = \"../../outputs/gpt2-wikitext/parsed_accuracy_data.json\"\n",
    "with open(output_file, \"w\") as json_file:\n",
    "    json.dump(parsed_data, json_file, indent=4)"
   ]
  },
  {
   "cell_type": "code",
   "execution_count": 61,
   "id": "6427bc05-9651-4048-8643-66fa50684cb3",
   "metadata": {},
   "outputs": [
    {
     "data": {
      "image/png": "[encoded data removed]",
      "text/plain": [
       "<Figure size 1000x1000 with 1 Axes>"
      ]
     },
     "metadata": {},
     "output_type": "display_data"
    }
   ],
   "source": [
    "df_metrics = pd.DataFrame(parsed_data)\n",
    "\n",
    "fig, ax = plt.subplots(figsize=(10, 10))\n",
    "sns.lineplot(data=df_metrics, x=\"step\", y=\"baseline_acc\", label=\"Baseline\", ax=ax)\n",
    "sns.lineplot(data=df_metrics, x=\"step\", y=\"nonce_acc\", label=\"Unseen\", ax=ax)\n",
    "ax.set_xlabel(\"Accuracy\", fontsize=14)\n",
    "ax.set_ylabel(\"Step\", fontsize=14)\n",
    "plt.show()"
   ]
  },
  {
   "cell_type": "code",
   "execution_count": 48,
   "id": "4bd619aa-fec9-4757-9c6a-a56b4a31e013",
   "metadata": {},
   "outputs": [],
   "source": [
    "# Save the trained model and tokenizer\n",
    "tokenizer.save_pretrained('../../outputs/gpt2-wikitext')\n",
    "model.save_pretrained('../../outputs/gpt2-wikitext')\n"
   ]
  },
  {
   "cell_type": "code",
   "execution_count": 51,
   "id": "23b0de1a-15af-412b-8996-d26127acf9f1",
   "metadata": {},
   "outputs": [
    {
     "data": {
      "text/plain": [
       "GPT2LMHeadModel(\n",
       "  (transformer): GPT2Model(\n",
       "    (wte): Embedding(50320, 1280)\n",
       "    (wpe): Embedding(1024, 1280)\n",
       "    (drop): Dropout(p=0.1, inplace=False)\n",
       "    (h): ModuleList(\n",
       "      (0-35): 36 x GPT2Block(\n",
       "        (ln_1): LayerNorm((1280,), eps=1e-05, elementwise_affine=True)\n",
       "        (attn): GPT2SdpaAttention(\n",
       "          (c_attn): Conv1D(nf=3840, nx=1280)\n",
       "          (c_proj): Conv1D(nf=1280, nx=1280)\n",
       "          (attn_dropout): Dropout(p=0.1, inplace=False)\n",
       "          (resid_dropout): Dropout(p=0.1, inplace=False)\n",
       "        )\n",
       "        (ln_2): LayerNorm((1280,), eps=1e-05, elementwise_affine=True)\n",
       "        (mlp): GPT2MLP(\n",
       "          (c_fc): Conv1D(nf=5120, nx=1280)\n",
       "          (c_proj): Conv1D(nf=1280, nx=5120)\n",
       "          (act): NewGELUActivation()\n",
       "          (dropout): Dropout(p=0.1, inplace=False)\n",
       "        )\n",
       "      )\n",
       "    )\n",
       "    (ln_f): LayerNorm((1280,), eps=1e-05, elementwise_affine=True)\n",
       "  )\n",
       "  (lm_head): Linear(in_features=1280, out_features=50320, bias=False)\n",
       ")"
      ]
     },
     "execution_count": 51,
     "metadata": {},
     "output_type": "execute_result"
    }
   ],
   "source": [
    "model.eval()"
   ]
  },
  {
   "cell_type": "code",
   "execution_count": 52,
   "id": "cc1bf7b3-87ab-427d-8ef4-e38ae25f744b",
   "metadata": {},
   "outputs": [
    {
     "name": "stdout",
     "output_type": "stream",
     "text": [
      "Progress: 0.0\n",
      "Progress: 0.167\n",
      "Progress: 0.333\n",
      "Progress: 0.5\n",
      "Progress: 0.667\n",
      "Progress: 0.833\n",
      "Model Accuracy: 0.9599999785423279\n"
     ]
    }
   ],
   "source": [
    "baseline_acc = behavioral_analysis_t(\n",
    "                300, model, tokenizer, vocabulary, \"clean_x\", \"clean_y\", \"wrong_y\", device, nonce=False\n",
    "            ).item()"
   ]
  },
  {
   "cell_type": "code",
   "execution_count": 53,
   "id": "ce1a3e27-bca6-4df2-904c-eefb1561c2ef",
   "metadata": {},
   "outputs": [
    {
     "name": "stdout",
     "output_type": "stream",
     "text": [
      "Progress: 0.0\n",
      "Progress: 0.167\n",
      "Progress: 0.333\n",
      "Progress: 0.5\n",
      "Progress: 0.667\n",
      "Progress: 0.833\n",
      "Model Accuracy: 0.9700000286102295\n"
     ]
    }
   ],
   "source": [
    "nonce_acc = behavioral_analysis_t(\n",
    "                300, model, tokenizer, vocabulary, \"clean_x\", \"clean_y\", \"wrong_y\", device, nonce=True\n",
    "            ).item()"
   ]
  }
 ],
 "metadata": {
  "kernelspec": {
   "display_name": "Python 3 (ipykernel)",
   "language": "python",
   "name": "python3"
  },
  "language_info": {
   "codemirror_mode": {
    "name": "ipython",
    "version": 3
   },
   "file_extension": ".py",
   "mimetype": "text/x-python",
   "name": "python",
   "nbconvert_exporter": "python",
   "pygments_lexer": "ipython3",
   "version": "3.9.16"
  }
 },
 "nbformat": 4,
 "nbformat_minor": 5
}
